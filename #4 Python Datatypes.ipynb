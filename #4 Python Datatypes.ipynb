{
 "cells": [
  {
   "cell_type": "markdown",
   "metadata": {},
   "source": [
    "# Python Decimal"
   ]
  },
  {
   "cell_type": "code",
   "execution_count": 1,
   "metadata": {},
   "outputs": [
    {
     "name": "stdout",
     "output_type": "stream",
     "text": [
      "False\n"
     ]
    }
   ],
   "source": [
    "print((1.1 + 2.2) == 3.3) # 1.1 + 2.2 = 3.3, but python says false"
   ]
  },
  {
   "cell_type": "markdown",
   "metadata": {},
   "source": [
    "### What is going on? \n",
    "\n",
    "It turns out that floating-point numbers are implemented in computer hardware as binary fractions as the computer only understands binary (0 and 1). Due to this reason, most of the decimal fractions we know, cannot be accurately stored in our computer.\n",
    "\n",
    "To overcome this issue, we can use the <code>decimal module</code> that comes with Python.\n",
    "\n",
    "This module is used when we want to carry out decimal calculations as we learned in school."
   ]
  },
  {
   "cell_type": "code",
   "execution_count": null,
   "metadata": {},
   "outputs": [
    {
     "name": "stdout",
     "output_type": "stream",
     "text": [
      "0.1\n",
      "0.1000000000000000055511151231257827021181583404541015625\n"
     ]
    }
   ],
   "source": [
    "import decimal\n",
    "print(0.1)\n",
    "print(decimal.Decimal(0.1))"
   ]
  },
  {
   "cell_type": "markdown",
   "metadata": {},
   "source": [
    "### We generally use Decimal in the following cases.\n",
    "\n",
    "* When we are making financial applications that need exact decimal representation.\n",
    "\n",
    "* When we want to control the level of precision required.\n",
    "\n",
    "* When we want to implement the notion of significant decimal places."
   ]
  },
  {
   "cell_type": "code",
   "execution_count": null,
   "metadata": {},
   "outputs": [],
   "source": [
    "from decimal import Decimal as dec\n",
    "\n",
    "print(dec(1.1))\n",
    "print(dec('1.22') * dec('2.30')) # precise output: 2.8060\n",
    "print((dec(\"1.1\") + dec(\"2.2\") == dec(\"3.3\"))) # OUTPUT: True, now it works"
   ]
  },
  {
   "cell_type": "markdown",
   "metadata": {},
   "source": [
    "# Python Fractions\n",
    "Python provides operations involving fractional numbers through its <code>fractions</code> module."
   ]
  },
  {
   "cell_type": "code",
   "execution_count": null,
   "metadata": {},
   "outputs": [],
   "source": [
    "import fractions\n",
    "print(fractions.Fraction(1.5)) # OUTPUT 3/2\n",
    "print(fractions.Fraction(5))\n",
    "print(fractions.Fraction(1,3))"
   ]
  },
  {
   "cell_type": "markdown",
   "metadata": {},
   "source": [
    "While creating <code>Fraction</code> from <code>float</code>, we might get some unusual results.\n",
    "Fortunately, <code>Fraction</code> allows us to instantiate with string as well. This is the preferred option when using decimal numbers."
   ]
  },
  {
   "cell_type": "code",
   "execution_count": null,
   "metadata": {},
   "outputs": [],
   "source": [
    "import fractions\n",
    "\n",
    "# As float\n",
    "# OUTPUT: 3152519739159347/2251799813685248\n",
    "print(fractions.Fraction(1.4))\n",
    "\n",
    "# As string\n",
    "# OUTPUT: 7/5\n",
    "print(fractions.Fraction('1.4'))"
   ]
  },
  {
   "cell_type": "markdown",
   "metadata": {},
   "source": [
    "This data type supports all basic operations. "
   ]
  },
  {
   "cell_type": "code",
   "execution_count": null,
   "metadata": {},
   "outputs": [
    {
     "name": "stdout",
     "output_type": "stream",
     "text": [
      "2/3\n",
      "6/5\n",
      "False\n",
      "True\n"
     ]
    }
   ],
   "source": [
    "from fractions import Fraction as F\n",
    "\n",
    "print(F(1,3) + F(1,3))\n",
    "print(1 / F(5,6))\n",
    "print(F(-3, 10) > 0)\n",
    "print(F(-3, 10) < 0)"
   ]
  },
  {
   "cell_type": "markdown",
   "metadata": {},
   "source": [
    "# Python Math\n",
    "Python offers modules like<code> math</code> and <code>random</code> to carry out different mathematics like trigonometry, logarithms, probability and statistics, etc."
   ]
  },
  {
   "cell_type": "code",
   "execution_count": null,
   "metadata": {},
   "outputs": [
    {
     "name": "stdout",
     "output_type": "stream",
     "text": [
      "3.141592653589793\n",
      "-1.0\n",
      "22026.465794806718\n",
      "3.0\n",
      "1.1752011936438014\n",
      "8320987112741390144276341183223364380754172606361245952449277696409600000000000000\n"
     ]
    }
   ],
   "source": [
    "import math\n",
    "\n",
    "print(math.pi)\n",
    "print(math.cos(math.pi))\n",
    "print(math.exp(10))\n",
    "print(math.log10(1000))\n",
    "print(math.sinh(1))\n",
    "print(math.factorial(60))"
   ]
  },
  {
   "cell_type": "code",
   "execution_count": 19,
   "metadata": {},
   "outputs": [
    {
     "name": "stdout",
     "output_type": "stream",
     "text": [
      "16\n",
      "c\n",
      "['e', 'd', 'c', 'b', 'a']\n",
      "<random.Random object at 0x00000252EF296A50>\n"
     ]
    }
   ],
   "source": [
    "import random\n",
    "print(random.randrange(10,20))\n",
    "\n",
    "x = ['a', 'b', 'c', 'd', 'e']\n",
    "\n",
    "# Get Random Choice\n",
    "print(random.choice(x))\n",
    "\n",
    "# Shuffle x\n",
    "random.shuffle(x)\n",
    "print(x)\n",
    "\n",
    "# Print random element\n",
    "print(random.Random())"
   ]
  },
  {
   "cell_type": "markdown",
   "metadata": {},
   "source": [
    "# Python Lists\n",
    "We can <font color=\"red\">add one item to a list</font> using the <code>append()</code> method or <font color=\"red\">add several items</font> using <code>extend()</code> method."
   ]
  },
  {
   "cell_type": "code",
   "execution_count": 1,
   "metadata": {},
   "outputs": [
    {
     "name": "stdout",
     "output_type": "stream",
     "text": [
      "[1, 3, 5, 7]\n",
      "[1, 3, 5, 7, 9, 12, 15]\n"
     ]
    }
   ],
   "source": [
    "odd = [1, 3, 5]\n",
    "\n",
    "odd.append(7)\n",
    "print(odd)\n",
    "\n",
    "odd.extend([9,12,15])\n",
    "print(odd)"
   ]
  },
  {
   "cell_type": "markdown",
   "metadata": {},
   "source": [
    "Furthermore, we can <font color=\"red\">insert one item at a desired location</font> by using the method <code>insert()</code>"
   ]
  },
  {
   "cell_type": "code",
   "execution_count": 7,
   "metadata": {},
   "outputs": [
    {
     "name": "stdout",
     "output_type": "stream",
     "text": [
      "[1, 3, 9]\n",
      "[1, 3, 5, 7, 9]\n"
     ]
    }
   ],
   "source": [
    "odd = [1, 9]\n",
    "odd.insert(1, 3) # list.insert(index, obj)\n",
    "print(odd)\n",
    "\n",
    "odd[2:2] = [5,7]\n",
    "print(odd)"
   ]
  },
  {
   "cell_type": "markdown",
   "metadata": {},
   "source": [
    "## Removing items from list\n",
    "* <code>del</code> Keyword\n",
    "* <code>remove()</code> method -> to remove given item\n",
    "* <code>pop()</code> method -> to remove given intem at given <font color='red'>index</font>\n",
    "* <code>clear()</code> to empty a list"
   ]
  },
  {
   "cell_type": "code",
   "execution_count": 8,
   "metadata": {},
   "outputs": [
    {
     "name": "stdout",
     "output_type": "stream",
     "text": [
      "['p', 'r', 'o', 'l', 'e', 'm']\n",
      "['p', 'm']\n"
     ]
    }
   ],
   "source": [
    "# Deleting list items\n",
    "my_list = ['p', 'r', 'o', 'b', 'l', 'e', 'm']\n",
    "\n",
    "# delete one item\n",
    "del my_list[3]\n",
    "print(my_list)\n",
    "\n",
    "# delete multiple items\n",
    "del my_list[1:5]\n",
    "print(my_list)\n",
    "\n",
    "# delete entire list\n",
    "del my_list"
   ]
  },
  {
   "cell_type": "code",
   "execution_count": 9,
   "metadata": {},
   "outputs": [
    {
     "name": "stdout",
     "output_type": "stream",
     "text": [
      "['p', 'o', 'b', 'l', 'e', 'm']\n",
      "l\n",
      "['p', 'o', 'b', 'e', 'm']\n",
      "m\n",
      "['p', 'o', 'b', 'e']\n",
      "[]\n"
     ]
    }
   ],
   "source": [
    "my_list = ['p','r','o','b','l','e','m']\n",
    "my_list.remove('r') # list.remove(element)\n",
    "print(my_list)\n",
    "print(my_list.pop(3)) # list.pop(obj = list[-1]) -> obj = index to delete\n",
    "print(my_list)\n",
    "print(my_list.pop()) # deletes last item in list\n",
    "print(my_list)\n",
    "my_list.clear()\n",
    "print(my_list)"
   ]
  },
  {
   "cell_type": "markdown",
   "metadata": {},
   "source": [
    "The <code>count()</code> method returns the number of times the specified element appears in the list."
   ]
  },
  {
   "cell_type": "code",
   "execution_count": 10,
   "metadata": {},
   "outputs": [
    {
     "name": "stdout",
     "output_type": "stream",
     "text": [
      "4\n"
     ]
    }
   ],
   "source": [
    "myList = [1,2,3,3,3,4,5,6,6,3]\n",
    "print(myList.count(3)) # list.count(element)"
   ]
  },
  {
   "cell_type": "markdown",
   "metadata": {},
   "source": [
    "The <code>sort()</code> method sorts the elements of a given list in a specific ascending or descending order."
   ]
  },
  {
   "cell_type": "code",
   "execution_count": 13,
   "metadata": {},
   "outputs": [
    {
     "name": "stdout",
     "output_type": "stream",
     "text": [
      "['a', 'e', 'i', 'o', 'u']\n",
      "[9, 7, 6, 6, 5, 5, 4, 4, 3, 3, 3, 3, 3, 2, 2, 1, 1, 0]\n"
     ]
    }
   ],
   "source": [
    "vowels = ['e', 'a', 'u', 'o', 'i']\n",
    "vowels.sort() # list.sort(key=..., reverse=...)\n",
    "print(vowels)\n",
    "\n",
    "myNumbers = [1,2,3,3,3,4,5,6,6,3,1,4,2,7,9,5,3,0]\n",
    "myNumbers.sort(reverse=True)\n",
    "print(myNumbers)"
   ]
  },
  {
   "cell_type": "code",
   "execution_count": 14,
   "metadata": {},
   "outputs": [
    {
     "name": "stdout",
     "output_type": "stream",
     "text": [
      "1\n"
     ]
    }
   ],
   "source": [
    "my_list = [3, 8, 1, 6, 0, 8, 4]\n",
    "\n",
    "# Output: 1\n",
    "print(my_list.index(8))"
   ]
  },
  {
   "cell_type": "markdown",
   "metadata": {},
   "source": [
    "### List Comprehension: Elegant way to create new List\n",
    "A list comprehension consists of an expression followed by for statement inside square brackets."
   ]
  },
  {
   "cell_type": "code",
   "execution_count": 19,
   "metadata": {},
   "outputs": [
    {
     "name": "stdout",
     "output_type": "stream",
     "text": [
      "[1, 3, 5, 7, 9, 11, 13, 15, 17, 19]\n"
     ]
    }
   ],
   "source": [
    "odd = [x for x in range(20) if x% 2 == 1]\n",
    "print(odd)"
   ]
  },
  {
   "cell_type": "markdown",
   "metadata": {},
   "source": [
    "### List Membership Test\n",
    "Check if item exists in a list:"
   ]
  },
  {
   "cell_type": "code",
   "execution_count": 20,
   "metadata": {},
   "outputs": [
    {
     "name": "stdout",
     "output_type": "stream",
     "text": [
      "True\n",
      "False\n"
     ]
    }
   ],
   "source": [
    "my_list = ['p', 'r', 'o', 'b', 'l', 'e', 'm']\n",
    "\n",
    "print('r' in my_list)\n",
    "print('q' in my_list)"
   ]
  },
  {
   "cell_type": "markdown",
   "metadata": {},
   "source": [
    "# Python Tuple\n",
    "### Unlike lists, tuples are <b><font color=\"red\">immutable</font></b>.\n",
    "A tuple can also be created <b><font color=\"pink\">without using parentheses</font></b>. This is known as tuple packing."
   ]
  },
  {
   "cell_type": "code",
   "execution_count": 22,
   "metadata": {},
   "outputs": [
    {
     "name": "stdout",
     "output_type": "stream",
     "text": [
      "(3.4, 56, 'spacecraft')\n",
      "3.4\n",
      "56\n",
      "spacecraft\n"
     ]
    }
   ],
   "source": [
    "myTuple = 3.4, 56, \"spacecraft\"\n",
    "print(myTuple)\n",
    "\n",
    "# tuple unpacking is also possible\n",
    "a, b, c = myTuple\n",
    "\n",
    "print(a)      # 3\n",
    "print(b)      # 4.6\n",
    "print(c)      # dog"
   ]
  },
  {
   "cell_type": "markdown",
   "metadata": {},
   "source": [
    "Creating a tuple having <font color=\"green\">one element</font>:"
   ]
  },
  {
   "cell_type": "code",
   "execution_count": 25,
   "metadata": {},
   "outputs": [
    {
     "name": "stdout",
     "output_type": "stream",
     "text": [
      "<class 'tuple'>\n",
      "<class 'str'>\n"
     ]
    }
   ],
   "source": [
    "my_tuple = (\"dragon\",) # To indicate that this is a tuple we NEED to add comma\n",
    "print(type(my_tuple)) # <class 'tuple'>\n",
    "\n",
    "my_tuple = (\"dragon\") # without comma it's string\n",
    "print(type(my_tuple)) # <class 'str'>"
   ]
  },
  {
   "cell_type": "code",
   "execution_count": 28,
   "metadata": {},
   "outputs": [],
   "source": [
    "my_tuple = (\"dragon\",\"c\")\n",
    "\n",
    "# Can delete an entire tuple\n",
    "del my_tuple"
   ]
  },
  {
   "cell_type": "markdown",
   "metadata": {},
   "source": [
    "## Tuple Methods"
   ]
  },
  {
   "cell_type": "code",
   "execution_count": 29,
   "metadata": {},
   "outputs": [
    {
     "name": "stdout",
     "output_type": "stream",
     "text": [
      "2\n",
      "4\n"
     ]
    }
   ],
   "source": [
    "my_tuple = ('a', 'p', 'p', 'l', 'e',)\n",
    "\n",
    "print(my_tuple.count('p'))\n",
    "print(my_tuple.index('e'))"
   ]
  },
  {
   "cell_type": "markdown",
   "metadata": {},
   "source": [
    "## Tuple Membership Test\n",
    "We can test if an item exists in a tuple or not, using the keyword <code>in</code>."
   ]
  },
  {
   "cell_type": "code",
   "execution_count": 30,
   "metadata": {},
   "outputs": [
    {
     "name": "stdout",
     "output_type": "stream",
     "text": [
      "True\n",
      "False\n",
      "True\n"
     ]
    }
   ],
   "source": [
    "# Membership test in tuple\n",
    "my_tuple = ('a', 'p', 'p', 'l', 'e',)\n",
    "\n",
    "# In operation\n",
    "print('a' in my_tuple)\n",
    "print('b' in my_tuple)\n",
    "\n",
    "# Not in operation\n",
    "print('g' not in my_tuple)"
   ]
  },
  {
   "cell_type": "markdown",
   "metadata": {},
   "source": [
    "# Strings\n",
    "Built-in functions to Work with Python:\n",
    "\n",
    "*  The <code>enumerate()</code> function returns an enumerate object. It contains the index and value of all the items in the string as pairs.\n",
    "\n",
    "* <code>len()</code> returns the length of the string"
   ]
  },
  {
   "cell_type": "code",
   "execution_count": 35,
   "metadata": {},
   "outputs": [
    {
     "name": "stdout",
     "output_type": "stream",
     "text": [
      "list(enumerate(str)) =  [(0, 'c'), (1, 'o'), (2, 'l'), (3, 'd'), (4, ' '), (5, 'd'), (6, 'i'), (7, 'c'), (8, 'k')]\n",
      "len(str) =  9\n"
     ]
    }
   ],
   "source": [
    "str = 'cold dick'\n",
    "\n",
    "# enumerate()\n",
    "list_enumerate = list(enumerate(str))\n",
    "print('list(enumerate(str)) = ', list_enumerate)\n",
    "\n",
    "# len()\n",
    "print(\"len(str) = \", len(str))"
   ]
  },
  {
   "cell_type": "markdown",
   "metadata": {},
   "source": [
    "## Raw String \n",
    "Any escape sequence inside it will be ignored."
   ]
  },
  {
   "cell_type": "code",
   "execution_count": 37,
   "metadata": {},
   "outputs": [
    {
     "name": "stdout",
     "output_type": "stream",
     "text": [
      "This is a \n",
      "good example\n",
      "\n",
      "This is \\x61 \\ngood example\n"
     ]
    }
   ],
   "source": [
    "print(\"This is \\x61 \\ngood example\")\n",
    "\n",
    "print('')\n",
    "\n",
    "print(r\"This is \\x61 \\ngood example\") # This is RAW STRING (r before string)"
   ]
  },
  {
   "cell_type": "markdown",
   "metadata": {},
   "source": [
    "## The <code>format()</code> Method for Formatting Strings"
   ]
  },
  {
   "cell_type": "code",
   "execution_count": 40,
   "metadata": {},
   "outputs": [
    {
     "name": "stdout",
     "output_type": "stream",
     "text": [
      "\n",
      "--- Default Order ---\n",
      "John, Bill and Sean\n",
      "\n",
      "--- Positional Order ---\n",
      "Bill, John and Sean\n",
      "\n",
      "--- Keyword Order ---\n",
      "John, Sean and Bill\n"
     ]
    }
   ],
   "source": [
    "# default(implicit) order\n",
    "default_order = \"{}, {} and {}\".format('John', 'Bill', 'Sean')\n",
    "print('\\n--- Default Order ---')\n",
    "print(default_order)\n",
    "\n",
    "# order using positional argument\n",
    "positional_order = \"{1}, {0} and {2}\".format('John', 'Bill', 'Sean')\n",
    "print('\\n--- Positional Order ---')\n",
    "print(positional_order)\n",
    "\n",
    "# order using keyword argument\n",
    "keyword_order = \"{s}, {b} and {i}\".format(s = 'John', i = 'Bill', b = 'Sean')\n",
    "print('\\n--- Keyword Order ---')\n",
    "print(keyword_order)"
   ]
  },
  {
   "cell_type": "markdown",
   "metadata": {},
   "source": [
    "## Some other interesting python string methods\n",
    "Split a string into a list where each word is a list item:\n",
    "<code>string.split(separator, maxsplit)</code>"
   ]
  },
  {
   "cell_type": "code",
   "execution_count": 50,
   "metadata": {},
   "outputs": [
    {
     "name": "stdout",
     "output_type": "stream",
     "text": [
      "['this', 'is', 'my', 'string', 'i', 'am', 'from', 'uganda', 'africa', 'call', 'me', 'Bob']\n",
      "\n",
      "This will join all words into a string\n"
     ]
    }
   ],
   "source": [
    "x = \"this is my string i am from uganda africa call me Bob\"\n",
    "y = x.split()\n",
    "print(y)\n",
    "\n",
    "print(\"\")\n",
    "\n",
    "vr = \" \".join(['This', 'will', 'join', 'all', 'words', 'into', 'a', 'string'])\n",
    "print(vr)"
   ]
  },
  {
   "cell_type": "code",
   "execution_count": 52,
   "metadata": {},
   "outputs": [
    {
     "name": "stdout",
     "output_type": "stream",
     "text": [
      "sad new year\n"
     ]
    }
   ],
   "source": [
    "y = 'happy new year'\n",
    "y = y.replace('happy', 'sad')\n",
    "print(y)"
   ]
  },
  {
   "cell_type": "markdown",
   "metadata": {},
   "source": [
    "# Python sets\n",
    "A set is an <font color=\"red\">unordered collection of items. Every set element is unique (no duplicates) and must be immutable (cannot be changed)</font>.\n",
    "\n",
    "However, a set itself is mutable. We can add or remove items from it.\n",
    "\n",
    "Sets can also be used to <b><font color=\"blue\">perform mathematical set operations like union, intersection, symmetric difference</font></b>, etc."
   ]
  },
  {
   "cell_type": "code",
   "execution_count": 23,
   "metadata": {},
   "outputs": [
    {
     "name": "stdout",
     "output_type": "stream",
     "text": [
      "{9, 2, 76, 5}\n"
     ]
    }
   ],
   "source": [
    "my_set = {2, 5, 76, 5, 5, 2, 9}\n",
    "print(my_set) # OUTPUT: {9, 2, 76, 5} cannot have duplicates, also is unordered\n",
    "\n",
    "# set cannot have mutable items\n",
    "# here [3, 4] is a mutable list\n",
    "# this will cause an error.\n",
    "# my_set = {1, 2, [3, 4]}"
   ]
  },
  {
   "cell_type": "markdown",
   "metadata": {},
   "source": [
    "Creating an <font color=\"red\">empty set</font>:"
   ]
  },
  {
   "cell_type": "code",
   "execution_count": 7,
   "metadata": {},
   "outputs": [
    {
     "name": "stdout",
     "output_type": "stream",
     "text": [
      "<class 'dict'>\n",
      "<class 'set'>\n"
     ]
    }
   ],
   "source": [
    "# initialize a with {}\n",
    "a = {}\n",
    "print(type(a)) # OUTPUT: <class 'dict'> THIS IS NOT SET\n",
    "\n",
    "# initialize a with set()\n",
    "a  = set()\n",
    "print(type(a)) # OUTPUT: <class 'set'> THIS IS SET"
   ]
  },
  {
   "cell_type": "markdown",
   "metadata": {},
   "source": [
    "### Modifying a set in Python\n",
    "* <code>add()</code> -> adds single element\n",
    "* <code>update()</code> -> adds multiple elements"
   ]
  },
  {
   "cell_type": "code",
   "execution_count": 8,
   "metadata": {},
   "outputs": [
    {
     "name": "stdout",
     "output_type": "stream",
     "text": [
      "{2, 4}\n",
      "{2, 4, 5}\n",
      "{2, 34, 4, 5, 86, 63}\n",
      "{1, 2, 34, 4, 5, 6, 8, 86, 63}\n"
     ]
    }
   ],
   "source": [
    "vSet = {2,4}\n",
    "print(vSet)\n",
    "\n",
    "# add an element\n",
    "vSet.add(5)\n",
    "print(vSet)\n",
    "\n",
    "# add multiple elements\n",
    "vSet.update([63,86,34])\n",
    "print(vSet)\n",
    "\n",
    "# add list and set\n",
    "vSet.update([4,5],{1,6,8})\n",
    "print(vSet)"
   ]
  },
  {
   "cell_type": "markdown",
   "metadata": {},
   "source": [
    "### Removing elements from a set\n",
    "* <code>discard()</code> -> removes single element\n",
    "* <code>remove()</code> -> removes single element\n",
    "* <code>pop()</code> -> removes random element\n",
    "* <code>clear()</code> -> removes all elements from the set\n",
    "\n",
    "The only difference between the two is that the <code>discard()</code> function leaves a set unchanged if the element is not present in the set. On the other hand, the <code>remove()</code> function will raise an error in such a condition (if element is not present in the set)."
   ]
  },
  {
   "cell_type": "code",
   "execution_count": 13,
   "metadata": {},
   "outputs": [
    {
     "name": "stdout",
     "output_type": "stream",
     "text": [
      "{3, 4, 5, 6, 7, 8, 9, 10}\n",
      "{3, 4, 6, 7, 8, 9, 10}\n",
      "{3, 4, 6, 7, 8, 9}\n",
      "{3, 4, 6, 7, 8, 9}\n"
     ]
    },
    {
     "ename": "KeyError",
     "evalue": "420",
     "output_type": "error",
     "traceback": [
      "\u001b[1;31m---------------------------------------------------------------------------\u001b[0m",
      "\u001b[1;31mKeyError\u001b[0m                                  Traceback (most recent call last)",
      "\u001b[1;32m<ipython-input-13-9254989ccf57>\u001b[0m in \u001b[0;36m<module>\u001b[1;34m\u001b[0m\n\u001b[0;32m     18\u001b[0m \u001b[1;31m# not present in my_set\u001b[0m\u001b[1;33m\u001b[0m\u001b[1;33m\u001b[0m\u001b[1;33m\u001b[0m\u001b[0m\n\u001b[0;32m     19\u001b[0m \u001b[1;31m# you will get an error.\u001b[0m\u001b[1;33m\u001b[0m\u001b[1;33m\u001b[0m\u001b[1;33m\u001b[0m\u001b[0m\n\u001b[1;32m---> 20\u001b[1;33m \u001b[0mneSet\u001b[0m\u001b[1;33m.\u001b[0m\u001b[0mremove\u001b[0m\u001b[1;33m(\u001b[0m\u001b[1;36m420\u001b[0m\u001b[1;33m)\u001b[0m\u001b[1;33m\u001b[0m\u001b[1;33m\u001b[0m\u001b[0m\n\u001b[0m\u001b[0;32m     21\u001b[0m \u001b[0mprint\u001b[0m\u001b[1;33m(\u001b[0m\u001b[0mneSet\u001b[0m\u001b[1;33m)\u001b[0m\u001b[1;33m\u001b[0m\u001b[1;33m\u001b[0m\u001b[0m\n",
      "\u001b[1;31mKeyError\u001b[0m: 420"
     ]
    }
   ],
   "source": [
    "neSet = {3,4,5,6,7,8,9,10}\n",
    "print(neSet)\n",
    "\n",
    "# discard an element\n",
    "neSet.discard(5)\n",
    "print(neSet)\n",
    "\n",
    "# remove an element\n",
    "neSet.remove(10)\n",
    "print(neSet)\n",
    "\n",
    "# discard an element\n",
    "# not present in my_set\n",
    "neSet.discard(22)\n",
    "print(neSet)\n",
    "\n",
    "# remove an element\n",
    "# not present in my_set\n",
    "# you will get an error.\n",
    "neSet.remove(420)\n",
    "print(neSet)"
   ]
  },
  {
   "cell_type": "code",
   "execution_count": 17,
   "metadata": {},
   "outputs": [
    {
     "name": "stdout",
     "output_type": "stream",
     "text": [
      "{'g', 'o', ' ', 'a', 'e', 's', 'n', 'i', 'r', 'l'}\n",
      "g\n",
      "set()\n"
     ]
    }
   ],
   "source": [
    "mySet = set(\"linear regression\")\n",
    "print(mySet)\n",
    "\n",
    "# pop an random element\n",
    "print(mySet.pop())\n",
    "\n",
    "# clear set\n",
    "mySet.clear()\n",
    "print(mySet)"
   ]
  },
  {
   "attachments": {
    "image.png": {
     "image/png": "[encoded data removed]"
    }
   },
   "cell_type": "markdown",
   "metadata": {},
   "source": [
    "# Python Set Operations\n",
    "### Set Union\n",
    "![image.png](attachment:image.png)\n",
    "Union of <code>A</code> and <code>B</code> is a set of all elements from both sets.\n",
    "\n",
    "Union is performed using <code>|</code> operator. Same can be accomplished using the <code>union()</code> method."
   ]
  },
  {
   "cell_type": "code",
   "execution_count": 20,
   "metadata": {},
   "outputs": [
    {
     "name": "stdout",
     "output_type": "stream",
     "text": [
      "{1, 2, 3, 4, 5, 6, 7, 8}\n",
      "{1, 2, 3, 4, 5, 6, 7, 8}\n"
     ]
    }
   ],
   "source": [
    "A = {1, 2, 3, 4, 5}\n",
    "B = {4, 5, 6, 7, 8}\n",
    "\n",
    "# use | operator\n",
    "print(A | B) # OUTPUT: {1, 2, 3, 4, 5, 6, 7, 8}\n",
    "\n",
    "# use union() function\n",
    "print(A.union(B)) # OUTPUT: {1, 2, 3, 4, 5, 6, 7, 8}"
   ]
  },
  {
   "attachments": {
    "image.png": {
     "image/png": "[encoded data removed]"
    }
   },
   "cell_type": "markdown",
   "metadata": {},
   "source": [
    "### Set Intersection\n",
    "![image.png](attachment:image.png)\n",
    "Intersection of <code>A</code> and <code>B</code> is a set of elements that are common in both the sets.\n",
    "\n",
    "Intersection is performed using <code>&</code> operator. Same can be accomplished using the <code>intersection()</code> method."
   ]
  },
  {
   "cell_type": "code",
   "execution_count": 21,
   "metadata": {},
   "outputs": [
    {
     "name": "stdout",
     "output_type": "stream",
     "text": [
      "{4, 5}\n",
      "{4, 5}\n"
     ]
    }
   ],
   "source": [
    "A = {1, 2, 3, 4, 5}\n",
    "B = {4, 5, 6, 7, 8}\n",
    "\n",
    "# use & operator\n",
    "print(A & B)\n",
    "\n",
    "# use intersection function on A\n",
    "print(A.intersection(B))"
   ]
  },
  {
   "attachments": {
    "image.png": {
     "image/png": "[encoded data removed]"
    }
   },
   "cell_type": "markdown",
   "metadata": {},
   "source": [
    "### Set Difference\n",
    "![image.png](attachment:image.png)\n",
    "Difference of the set <code>B</code> from set <code>A(A - B)</code> is a set of elements that are only in <code>A</code> but not in <code>B</code>.\n",
    "\n",
    "Difference is performed using <code>-</code> operator. Same can be accomplished using the <code>difference()</code> method."
   ]
  },
  {
   "cell_type": "code",
   "execution_count": 24,
   "metadata": {},
   "outputs": [
    {
     "name": "stdout",
     "output_type": "stream",
     "text": [
      "{1, 2, 3}\n",
      "{1, 2, 3}\n"
     ]
    }
   ],
   "source": [
    "A = {1, 2, 3, 4, 5}\n",
    "B = {4, 5, 6, 7, 8}\n",
    "\n",
    "# use - operator on A\n",
    "print(A - B)\n",
    "\n",
    "# use difference function on A\n",
    "print(A.difference(B))"
   ]
  },
  {
   "attachments": {
    "image.png": {
     "image/png": "[encoded data removed]"
    }
   },
   "cell_type": "markdown",
   "metadata": {},
   "source": [
    "### Set Symmetric Difference\n",
    "![image.png](attachment:image.png)\n",
    "Symmetric Difference of <code>A</code> and <code>B</code> is a set of elements in <code>A</code> and <code>B</code> but not in both (excluding the intersection).\n",
    "\n",
    "Symmetric difference is performed using <code>^</code> operator. Same can be accomplished using the method <code>symmetric_difference()</code>."
   ]
  },
  {
   "cell_type": "code",
   "execution_count": 26,
   "metadata": {},
   "outputs": [
    {
     "name": "stdout",
     "output_type": "stream",
     "text": [
      "{1, 2, 3, 6, 7, 8}\n",
      "{1, 2, 3, 6, 7, 8}\n"
     ]
    }
   ],
   "source": [
    "A = {1, 2, 3, 4, 5}\n",
    "B = {4, 5, 6, 7, 8}\n",
    "\n",
    "# use ^ operator\n",
    "print(A ^ B)\n",
    "\n",
    "# use symmetric_difference function on A\n",
    "print(A.symmetric_difference(B))"
   ]
  },
  {
   "cell_type": "markdown",
   "metadata": {},
   "source": [
    "# Other Set Operations\n",
    "### Set Membership Test"
   ]
  },
  {
   "cell_type": "code",
   "execution_count": 28,
   "metadata": {},
   "outputs": [
    {
     "name": "stdout",
     "output_type": "stream",
     "text": [
      "True\n",
      "False\n"
     ]
    }
   ],
   "source": [
    "mySet = set(\"neuralink\")\n",
    "\n",
    "print('a' in mySet)\n",
    "print('a' not in mySet)"
   ]
  },
  {
   "cell_type": "markdown",
   "metadata": {},
   "source": [
    "### Iterating Through a Set"
   ]
  },
  {
   "cell_type": "code",
   "execution_count": 31,
   "metadata": {},
   "outputs": [
    {
     "name": "stdout",
     "output_type": "stream",
     "text": [
      "g\n",
      "p\n",
      "o\n",
      " \n",
      "s\n",
      "b\n",
      "i\n"
     ]
    }
   ],
   "source": [
    "for letter in set(\"pig boss\"):\n",
    "    print(letter)"
   ]
  },
  {
   "cell_type": "markdown",
   "metadata": {},
   "source": [
    "### Set <code>sorted()</code>\n",
    "Returns a new sorted list from elements in the set(does not sort the set itself)."
   ]
  },
  {
   "cell_type": "code",
   "execution_count": 37,
   "metadata": {},
   "outputs": [
    {
     "name": "stdout",
     "output_type": "stream",
     "text": [
      "['a', 'b', 'c', 'd', 'g']\n",
      "{'g', 'a', 'c', 'b', 'd'}\n"
     ]
    }
   ],
   "source": [
    "fucSet = {'d','g','a','b',\"c\"}\n",
    "x = sorted(fucSet)\n",
    "print(x)\n",
    "print(fucSet)"
   ]
  },
  {
   "cell_type": "markdown",
   "metadata": {},
   "source": [
    "# Python Frozenset\n",
    "Frozenset is a new class that has the characteristics of a set, but <font color=\"red\">its elements cannot be changed once assigned</font>. \n",
    "\n",
    "Frozensets can be created using the <code>frozenset()</code> function."
   ]
  },
  {
   "cell_type": "code",
   "execution_count": 39,
   "metadata": {},
   "outputs": [
    {
     "name": "stdout",
     "output_type": "stream",
     "text": [
      "frozenset({10, 3})\n"
     ]
    }
   ],
   "source": [
    "froz1 = frozenset([1,2,3,4,5,6,10])\n",
    "froz2 = frozenset([1,2,4,5,6,7])\n",
    "\n",
    "print(froz1.difference(froz2))"
   ]
  },
  {
   "cell_type": "markdown",
   "metadata": {},
   "source": [
    "# Python Dictionary\n",
    "### Accessing Elements from Dictionary\n",
    "If we use the square brackets <code>[]</code>, <code>KeyError</code> is raised in case a key is not found in the dictionary. On the other hand, the <code>get()</code> method returns <code>None</code> if the key is not found."
   ]
  },
  {
   "cell_type": "code",
   "execution_count": 42,
   "metadata": {},
   "outputs": [
    {
     "name": "stdout",
     "output_type": "stream",
     "text": [
      "Jack\n",
      "26\n",
      "None\n"
     ]
    },
    {
     "ename": "NameError",
     "evalue": "name 'my_doct' is not defined",
     "output_type": "error",
     "traceback": [
      "\u001b[1;31m---------------------------------------------------------------------------\u001b[0m",
      "\u001b[1;31mNameError\u001b[0m                                 Traceback (most recent call last)",
      "\u001b[1;32m<ipython-input-42-aeadfa39ed9d>\u001b[0m in \u001b[0;36m<module>\u001b[1;34m\u001b[0m\n\u001b[0;32m      6\u001b[0m \u001b[1;31m# Trying to access keys which doesn't exist throws error\u001b[0m\u001b[1;33m\u001b[0m\u001b[1;33m\u001b[0m\u001b[1;33m\u001b[0m\u001b[0m\n\u001b[0;32m      7\u001b[0m \u001b[0mprint\u001b[0m\u001b[1;33m(\u001b[0m\u001b[0mmy_dict\u001b[0m\u001b[1;33m.\u001b[0m\u001b[0mget\u001b[0m\u001b[1;33m(\u001b[0m\u001b[1;34m'fucking key dont exist'\u001b[0m\u001b[1;33m)\u001b[0m\u001b[1;33m)\u001b[0m \u001b[1;31m# NO ERROR\u001b[0m\u001b[1;33m\u001b[0m\u001b[1;33m\u001b[0m\u001b[0m\n\u001b[1;32m----> 8\u001b[1;33m \u001b[0mprint\u001b[0m\u001b[1;33m(\u001b[0m\u001b[0mmy_doct\u001b[0m\u001b[1;33m[\u001b[0m\u001b[1;34m'badKey'\u001b[0m\u001b[1;33m]\u001b[0m\u001b[1;33m)\u001b[0m \u001b[1;31m# ERROR\u001b[0m\u001b[1;33m\u001b[0m\u001b[1;33m\u001b[0m\u001b[0m\n\u001b[0m",
      "\u001b[1;31mNameError\u001b[0m: name 'my_doct' is not defined"
     ]
    }
   ],
   "source": [
    "my_dict = {'name': 'Jack', 'age': 26}\n",
    "\n",
    "print(my_dict['name'])\n",
    "print(my_dict.get('age'))\n",
    "\n",
    "# Trying to access keys which doesn't exist throws error\n",
    "print(my_dict.get('fucking key dont exist')) # NO ERROR\n",
    "print(my_doct['badKey']) # ERROR"
   ]
  },
  {
   "cell_type": "markdown",
   "metadata": {},
   "source": [
    "### Removing elements from Dictionary"
   ]
  },
  {
   "cell_type": "code",
   "execution_count": 47,
   "metadata": {},
   "outputs": [
    {
     "name": "stdout",
     "output_type": "stream",
     "text": [
      "9\n",
      "{1: 1, 2: 4, 4: 16, 5: 25}\n",
      "\n",
      "(5, 25)\n",
      "{1: 1, 2: 4, 4: 16}\n",
      "\n",
      "{}\n"
     ]
    }
   ],
   "source": [
    "squares = {1: 1, 2: 4, 3: 9, 4: 16, 5: 25}\n",
    "\n",
    "# remove a particular item, returns its value\n",
    "print(squares.pop(3)) # OUTPUT: 9\n",
    "print(squares)\n",
    "\n",
    "print(\"\")\n",
    "\n",
    "# remove an arbitrary item, return (key,value)\n",
    "print(squares.popitem()) # The Python popitem() method removes and returns the last element (key, value) pair inserted into the dictionary.\n",
    "print(squares)\n",
    "\n",
    "print(\"\")\n",
    "\n",
    "# removes all items\n",
    "squares.clear()\n",
    "print(squares)\n",
    "\n",
    "# delete the dictionary\n",
    "del squares"
   ]
  },
  {
   "cell_type": "markdown",
   "metadata": {},
   "source": [
    "### Dictionary <code>fromkeys()</code> method and other interesting methods\n",
    "SYNTAX -> <code>fromkeys(seq[, v])</code>\n",
    "\n",
    "Returns a new dictionary with keys from <code>seq</code> and value equal to <code>v</code> (defaults to <code>None</code>)."
   ]
  },
  {
   "cell_type": "code",
   "execution_count": 52,
   "metadata": {},
   "outputs": [
    {
     "name": "stdout",
     "output_type": "stream",
     "text": [
      "{'math': 0, 'neuroscience': 0, 'biology': 0, 'machine learning': 0}\n",
      "\n",
      "('math', 0)\n",
      "('neuroscience', 0)\n",
      "('biology', 0)\n",
      "('machine learning', 0)\n",
      "\n",
      "['biology', 'machine learning', 'math', 'neuroscience']\n",
      "[0, 0, 0, 0]\n"
     ]
    }
   ],
   "source": [
    "marks = {}.fromkeys([\"math\",\"neuroscience\",\"biology\",\"machine learning\"], 0)\n",
    "print(marks)\n",
    "\n",
    "print(\"\")\n",
    "\n",
    "for item in marks.items(): # items() -> Return a new object of the dictionary's items in (key, value) format.\n",
    "    print(item)\n",
    "    \n",
    "print(\"\")\n",
    "\n",
    "print(list(sorted(marks.keys())))\n",
    "print(list(sorted(marks.values())))"
   ]
  },
  {
   "cell_type": "markdown",
   "metadata": {},
   "source": [
    "## Python Dictionary Comprehension\n",
    "Dictionary comprehension is an elegant and concise way to create a new dictionary from an iterable in Python."
   ]
  },
  {
   "cell_type": "code",
   "execution_count": 57,
   "metadata": {},
   "outputs": [
    {
     "name": "stdout",
     "output_type": "stream",
     "text": [
      "{0: 0, 1: 1, 2: 4, 3: 9, 4: 16, 5: 25, 6: 36, 7: 49, 8: 64, 9: 81}\n",
      "\n",
      "{1: 1, 3: 9, 5: 25, 7: 49, 9: 81}\n"
     ]
    }
   ],
   "source": [
    "squares = {x: x*x for x in range(10)}\n",
    "print(squares)\n",
    "\n",
    "print(\"\")\n",
    "\n",
    "odd_squares = {x: x*x for x in range(10) if x%2 == 1}\n",
    "print(odd_squares)"
   ]
  },
  {
   "cell_type": "markdown",
   "metadata": {},
   "source": [
    "### Iterating Through a Dictionary"
   ]
  },
  {
   "cell_type": "code",
   "execution_count": 58,
   "metadata": {},
   "outputs": [
    {
     "name": "stdout",
     "output_type": "stream",
     "text": [
      "1\n",
      "9\n",
      "25\n",
      "49\n",
      "81\n"
     ]
    }
   ],
   "source": [
    "squares = {1: 1, 3: 9, 5: 25, 7: 49, 9: 81}\n",
    "for i in squares:\n",
    "    print(squares[i])"
   ]
  },
  {
   "cell_type": "markdown",
   "metadata": {},
   "source": [
    "### Dictionary Built-in Functions"
   ]
  },
  {
   "cell_type": "code",
   "execution_count": 61,
   "metadata": {},
   "outputs": [
    {
     "name": "stdout",
     "output_type": "stream",
     "text": [
      "False\n",
      "True\n",
      "6\n",
      "[0, 1, 3, 5, 7, 9]\n"
     ]
    }
   ],
   "source": [
    "squares = {0: 0, 1: 1, 3: 9, 5: 25, 7: 49, 9: 81}\n",
    "\n",
    "# Output: False\n",
    "# Return True if all keys of the dictionary are True (or if the dictionary is empty).\n",
    "print(all(squares))\n",
    "\n",
    "# Output: True\n",
    "# Return True if any key of the dictionary is true. If the dictionary is empty, return False.\n",
    "print(any(squares))\n",
    "\n",
    "# Output: 6\n",
    "print(len(squares))\n",
    "\n",
    "# Output: [0, 1, 3, 5, 7, 9]\n",
    "# Return a new sorted list of keys in the dictionary.\n",
    "print(sorted(squares))"
   ]
  },
  {
   "cell_type": "code",
   "execution_count": null,
   "metadata": {},
   "outputs": [],
   "source": []
  }
 ],
 "metadata": {
  "kernelspec": {
   "display_name": "Python 3",
   "language": "python",
   "name": "python3"
  },
  "language_info": {
   "codemirror_mode": {
    "name": "ipython",
    "version": 3
   },
   "file_extension": ".py",
   "mimetype": "text/x-python",
   "name": "python",
   "nbconvert_exporter": "python",
   "pygments_lexer": "ipython3",
   "version": "3.8.5"
  }
 },
 "nbformat": 4,
 "nbformat_minor": 4
}
