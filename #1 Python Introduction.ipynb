{
 "cells": [
  {
   "cell_type": "markdown",
   "metadata": {},
   "source": [
    "# Special literals\n",
    "<div class=\"alert alert-block alert-warning\">Python contains one special literal i.e. <font color=\"red\">None</font>. We use it to specify that \n",
    "the field has not been created.</div>"
   ]
  },
  {
   "cell_type": "code",
   "execution_count": 8,
   "metadata": {
    "scrolled": true
   },
   "outputs": [
    {
     "name": "stdout",
     "output_type": "stream",
     "text": [
      "lean\n",
      "None\n"
     ]
    }
   ],
   "source": [
    "drink = \"lean\"\n",
    "food = None\n",
    "\n",
    "def menu(x):\n",
    "    if x == drink:\n",
    "        print(drink)\n",
    "    else:\n",
    "        print(food)\n",
    "        \n",
    "menu(drink)\n",
    "menu(food)"
   ]
  },
  {
   "cell_type": "markdown",
   "metadata": {},
   "source": [
    "# Output formatting\n",
    "<div class=\"alert alert-block alert-warning\">str.format()\n",
    "    \n",
    "print(*objects, sep=' ', end='\\n', file=sys.stdout, flush=False)\n",
    "</div>\n"
   ]
  },
  {
   "cell_type": "code",
   "execution_count": 5,
   "metadata": {},
   "outputs": [
    {
     "name": "stdout",
     "output_type": "stream",
     "text": [
      "1$2$3$4*"
     ]
    }
   ],
   "source": [
    "print(1, 2, 3, 4, sep=\"$\", end=\"*\")"
   ]
  },
  {
   "cell_type": "code",
   "execution_count": 22,
   "metadata": {},
   "outputs": [
    {
     "name": "stdout",
     "output_type": "stream",
     "text": [
      "x = 5, y = 10\n",
      "Hello James, LongDaggerDick\n"
     ]
    }
   ],
   "source": [
    "x = 5; y = 10\n",
    "\n",
    "print(\"x = {}, y = {}\".format(x, y)) # Usage of format()\n",
    "print(\"Hello {name}, {surname}\".format(name = \"James\", surname = \"LongDaggerDick\"))"
   ]
  },
  {
   "cell_type": "markdown",
   "metadata": {},
   "source": [
    "# Python Input\n",
    "<div class=\"alert alert-block alert-warning\">\n",
    "    <font color=\"red\">USER INPUT SYNTAX -></font> input([prompt])\n",
    "</div>\n"
   ]
  },
  {
   "cell_type": "markdown",
   "metadata": {},
   "source": [
    "<div class=\"alert alert-block alert-warning\">\n",
    "<font color=\"red\">eval()</font> can evaluate expressions, when provided input is as string.\n",
    "</div>"
   ]
  },
  {
   "cell_type": "code",
   "execution_count": 11,
   "metadata": {},
   "outputs": [
    {
     "name": "stdout",
     "output_type": "stream",
     "text": [
      "Enter a number one: 4534\n",
      "Enter a number two: 534.6\n",
      "<class 'str'>\n",
      "5068.6\n"
     ]
    }
   ],
   "source": [
    "number1 = input('Enter a number one: ')\n",
    "number2 = input('Enter a number two: ')\n",
    "print(type(number)) # STRING SO WE NEED TO CONVERT IT TO INT USING EVAL\n",
    "\n",
    "print(eval(\"{} + {}\".format(number1, number2)))"
   ]
  },
  {
   "cell_type": "markdown",
   "metadata": {},
   "source": [
    "# Python Import\n",
    "<div class=\"alert alert-block alert-warning\">\n",
    "   We use <font color=\"red\">import</font> keyword to import another module.\n",
    "</div>"
   ]
  },
  {
   "cell_type": "code",
   "execution_count": 12,
   "metadata": {},
   "outputs": [
    {
     "name": "stdout",
     "output_type": "stream",
     "text": [
      "3.141592653589793\n"
     ]
    }
   ],
   "source": [
    "import math # import xxx\n",
    "print(math.pi)"
   ]
  },
  {
   "cell_type": "code",
   "execution_count": 14,
   "metadata": {},
   "outputs": [
    {
     "name": "stdout",
     "output_type": "stream",
     "text": [
      "3.141592653589793\n"
     ]
    }
   ],
   "source": [
    "from math import pi # from xxx import xxx\n",
    "print(pi)"
   ]
  },
  {
   "attachments": {
    "image.png": {
     "image/png": "[encoded data removed]"
    }
   },
   "cell_type": "markdown",
   "metadata": {},
   "source": [
    "# Membership operators\n",
    "<div class=\"alert alert-block alert-warning\">\n",
    "    <code><font color=\"red\">in</font></code> and <code><font color=\"red\">not in</font></code> are the membership operators in Python. \n",
    "</div>\n",
    "\n",
    "![image.png](attachment:image.png)"
   ]
  },
  {
   "cell_type": "code",
   "execution_count": 16,
   "metadata": {},
   "outputs": [
    {
     "name": "stdout",
     "output_type": "stream",
     "text": [
      "True\n",
      "False\n",
      "False\n"
     ]
    }
   ],
   "source": [
    "x = 'Hello world'\n",
    "y = {1:'a', 2:'b'}\n",
    "\n",
    "print(\"H\" in x)\n",
    "print(1 not in y)\n",
    "print('b' in y)"
   ]
  },
  {
   "cell_type": "markdown",
   "metadata": {},
   "source": [
    "# Python Namespace and Scope\n",
    "<div class=\"alert alert-block alert-warning\">\n",
    "   Name (also called identifier) is simply a name given to objects. A name in python could refer to any type of object.\n",
    "    \n",
    " We can get the address (in RAM) of some object through the built-in function <code><font color=\"red\">id()</font></code>.\n",
    "</div>"
   ]
  },
  {
   "cell_type": "code",
   "execution_count": 24,
   "metadata": {},
   "outputs": [
    {
     "name": "stdout",
     "output_type": "stream",
     "text": [
      "id(2) =  140719420610240\n",
      "id(a) =  140719420610240\n",
      "\n",
      "id(3) =  140719420610272\n",
      "id(a) =  140719420610272\n",
      "\n",
      "id(b) = 140719420610240\n",
      "id(2) = 140719420610240\n",
      "jd\n"
     ]
    }
   ],
   "source": [
    "a = 2\n",
    "\n",
    "print('id(2) = ', id(2))\n",
    "print(\"id(a) = \", id(a))\n",
    "\n",
    "a += 1\n",
    "print(\"\")\n",
    "\n",
    "print(\"id(3) = \", id(3))\n",
    "print(\"id(a) = \", id(a))\n",
    "\n",
    "print(\"\")\n",
    "b = 2\n",
    "\n",
    "print('id(b) =', id(b))\n",
    "print('id(2) =', id(2))\n",
    "\n",
    "\n",
    "# Name can refer to any type of object: int, string, list, tuple etc, even functions:\n",
    "def myFunction():\n",
    "    print(\"jd\")\n",
    "    \n",
    "x = myFunction\n",
    "x() # jd"
   ]
  },
  {
   "attachments": {
    "image.png": {
     "image/png": "[encoded data removed]"
    }
   },
   "cell_type": "markdown",
   "metadata": {},
   "source": [
    "## What is a Namespace in Python?\n",
    "To simply put it, a namespace is a collection of names.\n",
    "\n",
    "In Python, you can imagine a namespace as a mapping of every name you have defined to corresponding objects.\n",
    "\n",
    "Different namespaces can co-exist at a given time but are completely isolated.\n",
    "\n",
    "![image.png](attachment:image.png)"
   ]
  },
  {
   "cell_type": "markdown",
   "metadata": {},
   "source": [
    "## Global variables"
   ]
  },
  {
   "cell_type": "code",
   "execution_count": 1,
   "metadata": {},
   "outputs": [
    {
     "name": "stdout",
     "output_type": "stream",
     "text": [
      "a =  30\n",
      "a =  20\n",
      "a =  10\n"
     ]
    }
   ],
   "source": [
    "def outer_function():\n",
    "    a = 20\n",
    "    \n",
    "    def inner_function():\n",
    "        a = 30\n",
    "        print('a = ', a)\n",
    "        \n",
    "    inner_function()\n",
    "    print('a = ', a)\n",
    "    \n",
    "a = 10\n",
    "outer_function()\n",
    "print('a = ', a)"
   ]
  },
  {
   "cell_type": "markdown",
   "metadata": {},
   "source": [
    "However, if we declare a as <font color=\"red\">global</font>, all the reference and assignment go to the global <code>a</code>."
   ]
  },
  {
   "cell_type": "code",
   "execution_count": 3,
   "metadata": {},
   "outputs": [
    {
     "name": "stdout",
     "output_type": "stream",
     "text": [
      "a =  30\n",
      "a =  30\n",
      "a =  30\n"
     ]
    }
   ],
   "source": [
    "def outer_function():\n",
    "    global a # using global a\n",
    "    a = 20\n",
    "    \n",
    "    def inner_function():\n",
    "        global a # using global a\n",
    "        a = 30\n",
    "        print('a = ', a)\n",
    "        \n",
    "    inner_function()\n",
    "    print('a = ', a)\n",
    "    \n",
    "a = 10\n",
    "outer_function()\n",
    "print('a = ', a)"
   ]
  },
  {
   "cell_type": "code",
   "execution_count": null,
   "metadata": {},
   "outputs": [],
   "source": []
  }
 ],
 "metadata": {
  "kernelspec": {
   "display_name": "Python 3",
   "language": "python",
   "name": "python3"
  },
  "language_info": {
   "codemirror_mode": {
    "name": "ipython",
    "version": 3
   },
   "file_extension": ".py",
   "mimetype": "text/x-python",
   "name": "python",
   "nbconvert_exporter": "python",
   "pygments_lexer": "ipython3",
   "version": "3.8.5"
  }
 },
 "nbformat": 4,
 "nbformat_minor": 4
}
