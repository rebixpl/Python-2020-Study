{
 "cells": [
  {
   "cell_type": "markdown",
   "metadata": {},
   "source": [
    "# Python Iterators\n",
    "> Iterator in Python is simply an object that can be iterated upon. List, tuple, string, etc are iterables.\n",
    "\n",
    "> A Python iterator object must implement two special methods, <code>\\_\\_iter\\_\\_()</code> and <code>\\_\\_next\\_\\_()</code>, collectively called the <b><font color=\"red\">iterator protocol</font></b>.\n",
    "\n",
    "> We use the <code>next()</code> function to manually iterate through all the items of an iterator.\n",
    "\n",
    "> The <code>iter()</code> function (which in turn calls the <code>\\_\\_iter\\_\\_()</code> method) returns an iterator from them."
   ]
  },
  {
   "cell_type": "code",
   "execution_count": 2,
   "metadata": {},
   "outputs": [
    {
     "name": "stdout",
     "output_type": "stream",
     "text": [
      "4\n",
      "7\n",
      "0\n",
      "3\n",
      "\n",
      "4\n",
      "7\n",
      "0\n",
      "3\n"
     ]
    }
   ],
   "source": [
    "# define a list\n",
    "my_list = [4, 7, 0, 3]\n",
    "\n",
    "# get iterator using iter()\n",
    "my_iter = iter(my_list)\n",
    "\n",
    "# iterate through it using next()\n",
    "print(next(my_iter))\n",
    "print(next(my_iter))\n",
    "\n",
    "# next(obj) is same as obj.__next__()\n",
    "print(my_iter.__next__())\n",
    "print(my_iter.__next__())\n",
    "\n",
    "print(\"\")\n",
    "\n",
    "# we can do the same with for loop:\n",
    "my_list = [4, 7, 0, 3]\n",
    "\n",
    "for element in my_list:\n",
    "    print(element)"
   ]
  },
  {
   "cell_type": "markdown",
   "metadata": {},
   "source": [
    "Let's see how for loop works with iterators inside:"
   ]
  },
  {
   "cell_type": "code",
   "execution_count": 6,
   "metadata": {},
   "outputs": [
    {
     "name": "stdout",
     "output_type": "stream",
     "text": [
      "2\n",
      "5\n",
      "74\n",
      "52\n",
      "7\n",
      "0\n"
     ]
    }
   ],
   "source": [
    "iterable = [2,5,74,52,7,0]\n",
    "\n",
    "# create an iterator object from that iterable\n",
    "iter_obj = iter(iterable)\n",
    "\n",
    "# infinite loop\n",
    "while True:\n",
    "    try:\n",
    "        # get the next element\n",
    "        element = next(iter_obj)\n",
    "        # do something with element\n",
    "        print(element)\n",
    "    except StopIteration:\n",
    "        # if StopIteration is raised, break from loop\n",
    "        break"
   ]
  },
  {
   "cell_type": "markdown",
   "metadata": {},
   "source": [
    "## Building Custom Iterators\n",
    "> We just have to implement the <code>\\_\\_iter\\_\\_()</code> and the <code>\\_\\_next\\_\\_()</code> methods.\n",
    "\n",
    "> The <code>\\_\\_iter\\_\\_()</code> method returns the iterator object itself. \n",
    "The <code>\\_\\_next\\_\\_()</code> method must return the next item in the sequence."
   ]
  },
  {
   "cell_type": "code",
   "execution_count": 15,
   "metadata": {},
   "outputs": [
    {
     "name": "stdout",
     "output_type": "stream",
     "text": [
      "1\n",
      "2\n",
      "4\n",
      "8\n",
      "16\n",
      "32\n"
     ]
    },
    {
     "ename": "StopIteration",
     "evalue": "",
     "output_type": "error",
     "traceback": [
      "\u001b[1;31m---------------------------------------------------------------------------\u001b[0m",
      "\u001b[1;31mStopIteration\u001b[0m                             Traceback (most recent call last)",
      "\u001b[1;32m<ipython-input-15-05c7448d6dc2>\u001b[0m in \u001b[0;36m<module>\u001b[1;34m\u001b[0m\n\u001b[0;32m     31\u001b[0m \u001b[0mprint\u001b[0m\u001b[1;33m(\u001b[0m\u001b[0mnext\u001b[0m\u001b[1;33m(\u001b[0m\u001b[0mi\u001b[0m\u001b[1;33m)\u001b[0m\u001b[1;33m)\u001b[0m\u001b[1;33m\u001b[0m\u001b[1;33m\u001b[0m\u001b[0m\n\u001b[0;32m     32\u001b[0m \u001b[0mprint\u001b[0m\u001b[1;33m(\u001b[0m\u001b[0mnext\u001b[0m\u001b[1;33m(\u001b[0m\u001b[0mi\u001b[0m\u001b[1;33m)\u001b[0m\u001b[1;33m)\u001b[0m\u001b[1;33m\u001b[0m\u001b[1;33m\u001b[0m\u001b[0m\n\u001b[1;32m---> 33\u001b[1;33m \u001b[0mprint\u001b[0m\u001b[1;33m(\u001b[0m\u001b[0mnext\u001b[0m\u001b[1;33m(\u001b[0m\u001b[0mi\u001b[0m\u001b[1;33m)\u001b[0m\u001b[1;33m)\u001b[0m \u001b[1;31m# error StopIteration\u001b[0m\u001b[1;33m\u001b[0m\u001b[1;33m\u001b[0m\u001b[0m\n\u001b[0m",
      "\u001b[1;32m<ipython-input-15-05c7448d6dc2>\u001b[0m in \u001b[0;36m__next__\u001b[1;34m(self)\u001b[0m\n\u001b[0;32m     16\u001b[0m             \u001b[1;32mreturn\u001b[0m \u001b[0mresult\u001b[0m\u001b[1;33m\u001b[0m\u001b[1;33m\u001b[0m\u001b[0m\n\u001b[0;32m     17\u001b[0m         \u001b[1;32melse\u001b[0m\u001b[1;33m:\u001b[0m\u001b[1;33m\u001b[0m\u001b[1;33m\u001b[0m\u001b[0m\n\u001b[1;32m---> 18\u001b[1;33m             \u001b[1;32mraise\u001b[0m \u001b[0mStopIteration\u001b[0m\u001b[1;33m\u001b[0m\u001b[1;33m\u001b[0m\u001b[0m\n\u001b[0m\u001b[0;32m     19\u001b[0m \u001b[1;33m\u001b[0m\u001b[0m\n\u001b[0;32m     20\u001b[0m \u001b[1;31m# create an object\u001b[0m\u001b[1;33m\u001b[0m\u001b[1;33m\u001b[0m\u001b[1;33m\u001b[0m\u001b[0m\n",
      "\u001b[1;31mStopIteration\u001b[0m: "
     ]
    }
   ],
   "source": [
    "class PowTwo:\n",
    "    \"\"\"Class to implement an iterator\n",
    "    of powers of two\"\"\"\n",
    "    \n",
    "    def __init__(self,max=0):\n",
    "        self.max=max\n",
    "        \n",
    "    def __iter__(self):\n",
    "        self.n=0\n",
    "        return self\n",
    "    \n",
    "    def __next__(self):\n",
    "        if self.n <= self.max:\n",
    "            result = 2**self.n\n",
    "            self.n += 1\n",
    "            return result\n",
    "        else:\n",
    "            raise StopIteration\n",
    "            \n",
    "# create an object\n",
    "numbers = PowTwo(5)\n",
    "\n",
    "# create an iterable from the objeect\n",
    "i = iter(numbers) # i = numbers.__iter__()\n",
    "\n",
    "# Using next to get to the next iterator element\n",
    "print(next(i))\n",
    "print(next(i))\n",
    "print(next(i))\n",
    "print(i.__next__())\n",
    "print(next(i))\n",
    "print(next(i))\n",
    "print(next(i)) # error StopIteration"
   ]
  },
  {
   "cell_type": "markdown",
   "metadata": {},
   "source": [
    "## Python Infinite Iterators\n",
    "\n",
    ">The built-in function <code>iter()</code> function can be called with two arguments where the first argument must be a callable object (function) and second is the sentinel. The iterator calls this function until the returned value is equal to the sentinel."
   ]
  },
  {
   "cell_type": "code",
   "execution_count": 19,
   "metadata": {},
   "outputs": [
    {
     "name": "stdout",
     "output_type": "stream",
     "text": [
      "0\n",
      "0\n",
      "0\n",
      "0\n"
     ]
    }
   ],
   "source": [
    "print(int()) # int() always returns 0\n",
    "\n",
    "inf = iter(int, 1)\n",
    "print(next(inf))\n",
    "print(next(inf))\n",
    "print(next(inf))"
   ]
  },
  {
   "cell_type": "markdown",
   "metadata": {},
   "source": [
    "The following iterator will, theoretically, return all the odd numbers."
   ]
  },
  {
   "cell_type": "code",
   "execution_count": 24,
   "metadata": {},
   "outputs": [
    {
     "name": "stdout",
     "output_type": "stream",
     "text": [
      "1\n",
      "3\n",
      "5\n",
      "7\n",
      "9\n",
      "11\n",
      "13\n",
      "15\n",
      "17\n",
      "19\n"
     ]
    }
   ],
   "source": [
    "class InfIter:\n",
    "    \"\"\"Infinite iterator to return all\n",
    "        odd numbers\"\"\"\n",
    "    def __iter__(self):\n",
    "        self.num = 1\n",
    "        return self\n",
    "    \n",
    "    def __next__(self):\n",
    "        num = self.num\n",
    "        self.num += 2\n",
    "        return num\n",
    "    \n",
    "a = iter(InfIter())\n",
    "\n",
    "for x in range(10):\n",
    "    print(next(a))"
   ]
  },
  {
   "cell_type": "markdown",
   "metadata": {},
   "source": [
    "# Python Generators\n",
    "Python generators are a simple way of creating iterators.\n",
    "\n",
    "Simply speaking, a generator is a function that returns an object (iterator) which we can iterate over (one value at a time).\n",
    "\n",
    "## Create generators in python\n",
    ">If a function contains at least one <code>yield</code> statement (it may contain other <code>yield</code> or <code>return</code> statements), it becomes a generator function.\n",
    "\n",
    ">The difference is that while a <code>return</code> statement terminates a function entirely, <code>yield</code> statement pauses the function saving all its states and later continues from there on successive calls.\n",
    "\n",
    ">Methods like <code>\\_\\_iter\\_\\_()</code> and <code>\\_\\_next\\_\\_()</code> are implemented automatically. So we can iterate through the items using <code>next()</code>."
   ]
  },
  {
   "cell_type": "code",
   "execution_count": 3,
   "metadata": {},
   "outputs": [
    {
     "name": "stdout",
     "output_type": "stream",
     "text": [
      "this is printed first\n",
      "1\n",
      "This is printed second\n",
      "2\n",
      "This is printed last\n",
      "3\n"
     ]
    },
    {
     "ename": "StopIteration",
     "evalue": "",
     "output_type": "error",
     "traceback": [
      "\u001b[1;31m---------------------------------------------------------------------------\u001b[0m",
      "\u001b[1;31mStopIteration\u001b[0m                             Traceback (most recent call last)",
      "\u001b[1;32m<ipython-input-3-e3b8523ead41>\u001b[0m in \u001b[0;36m<module>\u001b[1;34m\u001b[0m\n\u001b[0;32m     24\u001b[0m \u001b[1;33m\u001b[0m\u001b[0m\n\u001b[0;32m     25\u001b[0m \u001b[1;31m# Finally, when the function terminates, StopIteration is raised automatically on further calls.\u001b[0m\u001b[1;33m\u001b[0m\u001b[1;33m\u001b[0m\u001b[1;33m\u001b[0m\u001b[0m\n\u001b[1;32m---> 26\u001b[1;33m \u001b[0mprint\u001b[0m\u001b[1;33m(\u001b[0m\u001b[0mnext\u001b[0m\u001b[1;33m(\u001b[0m\u001b[0ma\u001b[0m\u001b[1;33m)\u001b[0m\u001b[1;33m)\u001b[0m\u001b[1;33m\u001b[0m\u001b[1;33m\u001b[0m\u001b[0m\n\u001b[0m",
      "\u001b[1;31mStopIteration\u001b[0m: "
     ]
    }
   ],
   "source": [
    "# A simple generator function\n",
    "def myGen():\n",
    "    n = 1 # Unlike normal functions, the local variables are not destroyed when the function yields.\n",
    "    print(\"this is printed first\")\n",
    "    # Generator function contains yield statements\n",
    "    yield n\n",
    "    \n",
    "    n+=1\n",
    "    print('This is printed second')\n",
    "    yield n\n",
    "    \n",
    "    n+=1\n",
    "    print('This is printed last')\n",
    "    yield n\n",
    "\n",
    "a = myGen()\n",
    "\n",
    "# We can iterate through the items using next().\n",
    "print(next(a))\n",
    "\n",
    "# Local variables and theirs states are remembered between successive calls.\n",
    "print(next(a))\n",
    "print(next(a))\n",
    "\n",
    "# Finally, when the function terminates, StopIteration is raised automatically on further calls.\n",
    "print(next(a))"
   ]
  },
  {
   "cell_type": "code",
   "execution_count": 4,
   "metadata": {},
   "outputs": [
    {
     "name": "stdout",
     "output_type": "stream",
     "text": [
      "this is printed first\n",
      "1\n",
      "This is printed second\n",
      "2\n",
      "This is printed last\n",
      "3\n"
     ]
    }
   ],
   "source": [
    "# Using for loop\n",
    "for item in myGen():\n",
    "    print(item)"
   ]
  },
  {
   "cell_type": "markdown",
   "metadata": {},
   "source": [
    "## Python Generators with a Loop\n"
   ]
  },
  {
   "cell_type": "code",
   "execution_count": 20,
   "metadata": {},
   "outputs": [
    {
     "name": "stdout",
     "output_type": "stream",
     "text": [
      "o\n",
      "l\n",
      "l\n",
      "e\n",
      "h\n"
     ]
    }
   ],
   "source": [
    "def rev_str(string):\n",
    "    length = len(string)\n",
    "    for i in range(length - 1, -1, -1):\n",
    "        yield string[i]\n",
    "\n",
    "# For loop to reverse the string\n",
    "for char in rev_str(\"hello\"):\n",
    "    print(char)"
   ]
  },
  {
   "cell_type": "markdown",
   "metadata": {},
   "source": [
    "## Python Generator Expression\n",
    ">The syntax for generator expression is similar to that of a list comprehension in Python. But <font color=\"red\">the square brackets are replaced with round parentheses</font>.\n",
    "\n",
    ">A generator expression is much more memory efficient than an equivalent list comprehension."
   ]
  },
  {
   "cell_type": "code",
   "execution_count": 24,
   "metadata": {},
   "outputs": [
    {
     "name": "stdout",
     "output_type": "stream",
     "text": [
      "[1, 9, 36, 100]\n",
      "<generator object <genexpr> at 0x0000027FE6C45580>\n",
      "1\n",
      "9\n",
      "36\n",
      "100\n",
      "146\n"
     ]
    }
   ],
   "source": [
    "# initialize the list\n",
    "myList = [1,3,6,10]\n",
    "\n",
    "# square each term using list comprehension\n",
    "list_ = [x ** 2 for x in myList]\n",
    "\n",
    "# same thing can be done using a generator expression\n",
    "# generator expressions are surrounded by parenthesis ()\n",
    "generator = (x ** 2 for x in myList)\n",
    "\n",
    "print(list_) # [1, 9, 36, 100]\n",
    "print(generator) # <generator object <genexpr> at 0x0000027FE6C45CF0> \n",
    "# it returned a generator object, which produces items only on demand.\n",
    "\n",
    "print(next(generator))\n",
    "print(next(generator))\n",
    "print(next(generator))\n",
    "print(next(generator))\n",
    "\n",
    "# Generator expressions can be used as function arguments. \n",
    "# When used in such a way, the round parentheses can be dropped.\n",
    "print(sum(x**2 for x in myList)) # OUTPUT: 146"
   ]
  },
  {
   "cell_type": "code",
   "execution_count": 26,
   "metadata": {},
   "outputs": [
    {
     "name": "stdout",
     "output_type": "stream",
     "text": [
      "1\n",
      "2\n",
      "4\n",
      "8\n",
      "16\n",
      "32\n",
      "64\n"
     ]
    }
   ],
   "source": [
    "def PowTwoGen(max=0):\n",
    "    n = 0\n",
    "    while n < max:\n",
    "        yield 2 ** n\n",
    "        n += 1\n",
    "        \n",
    "threee = PowTwoGen(7)\n",
    "for x in threee:\n",
    "    print(x)"
   ]
  },
  {
   "cell_type": "markdown",
   "metadata": {},
   "source": [
    "## Pipelining Generators\n",
    "Multiple generators can be used to pipeline a series of operations. This is best illustrated using an example."
   ]
  },
  {
   "cell_type": "code",
   "execution_count": 27,
   "metadata": {},
   "outputs": [
    {
     "name": "stdout",
     "output_type": "stream",
     "text": [
      "4895\n"
     ]
    }
   ],
   "source": [
    "def fibonacci_numbers(nums):\n",
    "    x,y=0,1\n",
    "    for uuh in range(nums):\n",
    "        x,y=y,x+y\n",
    "        yield x\n",
    "        \n",
    "def square(nums):\n",
    "    for x in nums:\n",
    "        yield x ** 2\n",
    "        \n",
    "print(sum(square(fibonacci_numbers(10))))"
   ]
  },
  {
   "cell_type": "markdown",
   "metadata": {},
   "source": [
    "# Python Closures\n",
    "> A Closure is a function object that <font color=\"red\">remembers values in enclosing scopes even if they are not present in memory</font>.\n",
    "\n",
    "> Nested functions can access variables of the enclosing scope. In Python, these <font color='red'>non-local variables are read-only by default</font> and we must declare them explicitly as non-local (using <code>nonlocal</code> keyword) in order to modify them.\n",
    "\n",
    "## Nested Function"
   ]
  },
  {
   "cell_type": "code",
   "execution_count": 1,
   "metadata": {},
   "outputs": [
    {
     "name": "stdout",
     "output_type": "stream",
     "text": [
      "go\n"
     ]
    }
   ],
   "source": [
    "def printMessage(msg):\n",
    "    # This is the outer enclosing function\n",
    "    \n",
    "    def printer():\n",
    "        # This is the nested function\n",
    "        print(msg) # accessing msg from enclosing function\n",
    "        \n",
    "    printer()\n",
    "    \n",
    "printMessage(\"go\")"
   ]
  },
  {
   "cell_type": "markdown",
   "metadata": {},
   "source": [
    "## Defining a Closure Function"
   ]
  },
  {
   "cell_type": "code",
   "execution_count": 3,
   "metadata": {},
   "outputs": [
    {
     "name": "stdout",
     "output_type": "stream",
     "text": [
      "tomato\n"
     ]
    }
   ],
   "source": [
    "def printMessage(msg):\n",
    "    # This is the outer enclosing function\n",
    "    \n",
    "    def printer():\n",
    "        # This is the nested function\n",
    "        print(msg) # accessing msg from enclosing function\n",
    "        \n",
    "    return printer # returns the nested function\n",
    "    \n",
    "function = printMessage(\"tomato\")\n",
    "function()"
   ]
  },
  {
   "cell_type": "markdown",
   "metadata": {},
   "source": [
    "Even <font color='red'>though the execution of the \"<code>printMessage()</code>\" was completed, the message was rather preserved</font>. This technique by which the data is attached to some code even after end of those other original functions is called as <b><font color='red'>closures in python</font></b>."
   ]
  },
  {
   "cell_type": "markdown",
   "metadata": {},
   "source": [
    "### When do we have closures?\n",
    "* We must have a nested function (function inside a function).\n",
    "* The nested function must refer to a value defined in the enclosing function.\n",
    "* The enclosing function must return the nested function."
   ]
  },
  {
   "cell_type": "code",
   "execution_count": 9,
   "metadata": {},
   "outputs": [
    {
     "name": "stdout",
     "output_type": "stream",
     "text": [
      "27\n",
      "15\n",
      "60\n"
     ]
    }
   ],
   "source": [
    "def make_multip_of(n):\n",
    "    def multiplier(x):\n",
    "        return x * n\n",
    "    return multiplier\n",
    "\n",
    "times3 = make_multip_of(3)\n",
    "times5 = make_multip_of(5)\n",
    "\n",
    "print(times3(9))\n",
    "print(times5(3))\n",
    "print(times5(times3(4)))"
   ]
  },
  {
   "cell_type": "markdown",
   "metadata": {},
   "source": [
    "# Python Decorators\n",
    "> A decorator takes in a function, adds some functionality and returns it. \n",
    "> This is also called <b><font color=\"blue\">metaprogramming</font></b> because a part of program tries to modify another part of program.\n",
    "\n",
    "> Functions in python (as everything) are objects."
   ]
  },
  {
   "cell_type": "markdown",
   "metadata": {},
   "source": [
    "### Functions can be passed as arguments to another function."
   ]
  },
  {
   "cell_type": "code",
   "execution_count": 15,
   "metadata": {},
   "outputs": [
    {
     "name": "stdout",
     "output_type": "stream",
     "text": [
      "6\n",
      "4\n"
     ]
    }
   ],
   "source": [
    "def inc(x):\n",
    "    return x + 1\n",
    "\n",
    "def dec(x):\n",
    "    return x - 1\n",
    "\n",
    "def operate(func, x):\n",
    "    result = func(x)\n",
    "    return result\n",
    "\n",
    "print(operate(inc, 5))\n",
    "print(operate(dec, 5))"
   ]
  },
  {
   "cell_type": "code",
   "execution_count": 20,
   "metadata": {},
   "outputs": [
    {
     "name": "stdout",
     "output_type": "stream",
     "text": [
      " I am ordinary\n",
      "\n",
      "I got decorated\n",
      " I am ordinary\n"
     ]
    }
   ],
   "source": [
    "def make_pretty(func):\n",
    "    def inner():\n",
    "        print(\"I got decorated\") #  the decorator function added some new functionality to the original function.\n",
    "        func()\n",
    "    return inner\n",
    "\n",
    "def ordinary():\n",
    "    print(\" I am ordinary\")\n",
    "    \n",
    "ordinary()\n",
    "print()\n",
    "pretty = make_pretty(ordinary) # we decorate function and reassign it\n",
    "pretty()"
   ]
  },
  {
   "cell_type": "markdown",
   "metadata": {},
   "source": [
    "We can use the <code>@</code> symbol along with the name of the decorator function and place it above the definition of the function to be decorated."
   ]
  },
  {
   "cell_type": "code",
   "execution_count": 23,
   "metadata": {},
   "outputs": [
    {
     "name": "stdout",
     "output_type": "stream",
     "text": [
      "I got decorated\n",
      "I am ordinary\n"
     ]
    }
   ],
   "source": [
    "@make_pretty\n",
    "def ordinary():\n",
    "    print(\"I am ordinary\")\n",
    "    \n",
    "# is eqivalent to:\n",
    "def ordinary():\n",
    "    print(\"I am ordinary\")\n",
    "ordinary = make_pretty(ordinary)\n",
    "    \n",
    "ordinary()"
   ]
  },
  {
   "cell_type": "markdown",
   "metadata": {},
   "source": [
    "## Decorating Functions with Parameters\n"
   ]
  },
  {
   "cell_type": "code",
   "execution_count": 30,
   "metadata": {},
   "outputs": [
    {
     "name": "stdout",
     "output_type": "stream",
     "text": [
      "I am going to divide 2 and 5\n",
      "0.4\n",
      "I am going to divide 2 and 0\n",
      "Whoops! cannot divide\n"
     ]
    }
   ],
   "source": [
    "# making a decorator that checks if we pass b as 0 ( so it will not show division by zero error )\n",
    "def smart_divide(func):\n",
    "    def inner(a,b):\n",
    "        print(\"I am going to divide\", a, \"and\", b)\n",
    "        if b == 0:\n",
    "            print(\"Whoops! cannot divide\")\n",
    "            return\n",
    "        return func(a,b)\n",
    "    return inner\n",
    "    \n",
    "@smart_divide\n",
    "def divide(a,b):\n",
    "    print(a/b)\n",
    "    \n",
    "divide(2,5)\n",
    "divide(2,0)"
   ]
  },
  {
   "cell_type": "markdown",
   "metadata": {},
   "source": [
    "## general decorators that work with any number of parameters\n",
    "<code>args</code> will be the tuple of positional arguments and <code>kwargs</code> will be the dictionary of keyword arguments."
   ]
  },
  {
   "cell_type": "code",
   "execution_count": 31,
   "metadata": {},
   "outputs": [
    {
     "name": "stdout",
     "output_type": "stream",
     "text": [
      "I can decorate any function\n",
      "1.554054054054054\n"
     ]
    }
   ],
   "source": [
    "def works_for_all(func):\n",
    "    def inner(*args, **kwargs):\n",
    "        print(\"I can decorate any function\")\n",
    "        return func(*args, ** kwargs)\n",
    "    return inner\n",
    "\n",
    "@works_for_all\n",
    "def xxx(x,y,f):\n",
    "    print(x * y / f)\n",
    "    \n",
    "xxx(23,5,74)"
   ]
  },
  {
   "cell_type": "markdown",
   "metadata": {},
   "source": [
    "## Chaining Decorators in Python"
   ]
  },
  {
   "cell_type": "code",
   "execution_count": 33,
   "metadata": {},
   "outputs": [
    {
     "name": "stdout",
     "output_type": "stream",
     "text": [
      "******************************\n",
      "$$$$$$$$$$$$$$$$$$$$$$$$$$$$$$\n",
      "Help my dick\n",
      "$$$$$$$$$$$$$$$$$$$$$$$$$$$$$$\n",
      "******************************\n"
     ]
    }
   ],
   "source": [
    "def star(func):\n",
    "    def inner(*args, **kwargs):\n",
    "        print(\"*\" * 30)\n",
    "        func(*args, **kwargs)\n",
    "        print(\"*\" * 30)\n",
    "    return inner\n",
    "\n",
    "def cash(func):\n",
    "    def inner(*args, **kwargs):\n",
    "        print(\"$\" * 30)\n",
    "        func(*args, **kwargs)\n",
    "        print(\"$\" * 30)\n",
    "    return inner\n",
    "\n",
    "@star\n",
    "@cash # is equivalent to printer = star(cash(printer))\n",
    "def printer(msg):\n",
    "    print(msg)\n",
    "    \n",
    "printer(\"Help my dick\")"
   ]
  },
  {
   "cell_type": "code",
   "execution_count": null,
   "metadata": {},
   "outputs": [],
   "source": []
  }
 ],
 "metadata": {
  "kernelspec": {
   "display_name": "Python 3",
   "language": "python",
   "name": "python3"
  },
  "language_info": {
   "codemirror_mode": {
    "name": "ipython",
    "version": 3
   },
   "file_extension": ".py",
   "mimetype": "text/x-python",
   "name": "python",
   "nbconvert_exporter": "python",
   "pygments_lexer": "ipython3",
   "version": "3.8.5"
  }
 },
 "nbformat": 4,
 "nbformat_minor": 4
}
