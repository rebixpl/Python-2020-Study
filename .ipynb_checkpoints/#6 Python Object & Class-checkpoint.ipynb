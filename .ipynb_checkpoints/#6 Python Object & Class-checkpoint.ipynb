{
 "cells": [
  {
   "cell_type": "markdown",
   "metadata": {},
   "source": [
    "# Object Oriented Programming\n",
    ">One of the popular approaches to solve a programming problem is by creating objects. This is known as Object-Oriented Programming (OOP).\n",
    "\n",
    "An object has two characteristics:\n",
    "* attributes\n",
    "* behavior\n",
    "\n",
    "Let's take an example:\n",
    "A parrot is can be an object,as it has the following properties:\n",
    "* name, age, color as attributes\n",
    "* singing, dancing as behavior"
   ]
  },
  {
   "cell_type": "markdown",
   "metadata": {},
   "source": [
    "## Class"
   ]
  },
  {
   "cell_type": "code",
   "execution_count": 1,
   "metadata": {},
   "outputs": [],
   "source": [
    "class Parrot: # Here, we use the class keyword to define an empty class Parrot.\n",
    "    pass"
   ]
  },
  {
   "cell_type": "markdown",
   "metadata": {},
   "source": [
    "## Object"
   ]
  },
  {
   "cell_type": "code",
   "execution_count": 2,
   "metadata": {},
   "outputs": [],
   "source": [
    "obj = Parrot() # An object (instance) is an instantiation of a class."
   ]
  },
  {
   "cell_type": "markdown",
   "metadata": {},
   "source": [
    "##  Creating Class and Object in Python\n",
    "The attributes are a characteristic of an object.\n",
    "\n",
    ">These <b>attributes</b> are defined inside the <code>\\_\\_init\\_\\_</code> method of the class. It is <font color=\"red\">the initializer method that is first run as soon as the object is created</font>.\n",
    "\n",
    ">We can access the <b>class attribute</b> using <code>\\_\\_class\\_\\_.attributename</code>. Class attributes are <font color=\"red\">the same for all instances of a class</font>. \n",
    "\n",
    ">Similarly, we access the <b>instance attributes</b> using <code>instanceName.attributeName</code>. However, <font color=\"red\">instance attributes are different for every instance of a class</font>.\n"
   ]
  },
  {
   "cell_type": "code",
   "execution_count": 3,
   "metadata": {},
   "outputs": [
    {
     "name": "stdout",
     "output_type": "stream",
     "text": [
      "Blu is a bird\n",
      "Woo is a bird\n",
      "Blu is 10 years old\n",
      "Woo is 15 years old\n"
     ]
    }
   ],
   "source": [
    "class Parrot:\n",
    "    \n",
    "    # class attribute\n",
    "    species = \"bird\"\n",
    "    \n",
    "    # instance attribuite\n",
    "    def __init__(self, name, age):\n",
    "        self.name = name\n",
    "        self.age = age\n",
    "        \n",
    "# instantiate the Parrot class\n",
    "blu = Parrot(\"Blu\", 10)\n",
    "woo = Parrot(\"Woo\", 15)\n",
    "\n",
    "# access the class attributes\n",
    "print(\"Blu is a {}\".format(blu.__class__.species))\n",
    "print(\"Woo is a {}\".format(woo.__class__.species))\n",
    "\n",
    "# access the instance attributes\n",
    "print(\"{} is {} years old\".format(blu.name, blu.age))\n",
    "print(\"{} is {} years old\".format(woo.name, woo.age))"
   ]
  },
  {
   "cell_type": "markdown",
   "metadata": {},
   "source": [
    "## Methods\n",
    "Methods are functions <font color=\"red\">defined inside the body of a class</font>. "
   ]
  },
  {
   "cell_type": "code",
   "execution_count": 5,
   "metadata": {},
   "outputs": [
    {
     "name": "stdout",
     "output_type": "stream",
     "text": [
      "Blu sings 'Happy'\n",
      "Blu is now dancing\n"
     ]
    }
   ],
   "source": [
    "class Parrot:\n",
    "    \n",
    "    # instance attributes\n",
    "    def __init__(self,name,age):\n",
    "        self.name = name\n",
    "        self.age = age\n",
    "    \n",
    "    # instance methods\n",
    "    def sing(self, song):\n",
    "        return \"{} sings {}\".format(self.name, song)\n",
    "    \n",
    "    def dance(self):\n",
    "        return \"{} is now dancing\".format(self.name)\n",
    "    \n",
    "# instantiate object\n",
    "blu = Parrot(\"Blu\", 10)\n",
    "\n",
    "# call instance methods\n",
    "print(blu.sing(\"'Happy'\"))\n",
    "print(blu.dance())"
   ]
  },
  {
   "cell_type": "markdown",
   "metadata": {},
   "source": [
    "## Inheritance\n",
    ">The newly formed class is a <font color=\"red\">derived class (or child class)</font>. Similarly, <font color=\"red\">the existing class is a base class (or parent class)</font>.\n",
    "\n",
    "> We use the <code>super()</code> function inside the <code>\\_\\_init\\_\\_()</code> method. This allows us to run the <code>\\_\\_init\\_\\_()</code> method of the parent class inside the child class."
   ]
  },
  {
   "cell_type": "code",
   "execution_count": 8,
   "metadata": {},
   "outputs": [
    {
     "name": "stdout",
     "output_type": "stream",
     "text": [
      "Bird is ready!\n",
      "Penguin is ready!\n",
      "Penguin\n",
      "Swim faster\n",
      "Run faster\n"
     ]
    }
   ],
   "source": [
    "# parent class\n",
    "class Bird:\n",
    "    def __init__(self):\n",
    "        print(\"Bird is ready!\")\n",
    "        \n",
    "    def whoisThis(self):\n",
    "        print(\"Bird\")\n",
    "        \n",
    "    def swim(self):\n",
    "        print(\"Swim faster\")\n",
    "        \n",
    "# child class\n",
    "class Penguin(Bird):\n",
    "    def __init__(self):\n",
    "        # call super() function to run the __init__() method of the parent class\n",
    "        super().__init__()\n",
    "        print(\"Penguin is ready!\")\n",
    "        \n",
    "    def whoisThis(self):\n",
    "        print(\"Penguin\")\n",
    "        \n",
    "    def run(self):\n",
    "        print(\"Run faster\")\n",
    "        \n",
    "peggy = Penguin()\n",
    "peggy.whoisThis()\n",
    "peggy.swim() # calling parent function\n",
    "peggy.run()"
   ]
  },
  {
   "cell_type": "markdown",
   "metadata": {},
   "source": [
    "## Encapsulation\n",
    "To prevent accidental change, an object’s variable can only be changed by an object’s method. Those type of variables are known as private variable.\n",
    "\n",
    "In Python, we denote private attributes using underscore as the prefix i.e single <code>\\_</code> or double <code>\\_\\_</code>."
   ]
  },
  {
   "cell_type": "code",
   "execution_count": 13,
   "metadata": {},
   "outputs": [
    {
     "name": "stdout",
     "output_type": "stream",
     "text": [
      "Selling Price: 900\n",
      "Selling Price: 900\n",
      "Selling Price: 2000\n"
     ]
    }
   ],
   "source": [
    "class Computer:\n",
    "    def __init__(self):\n",
    "        self.__maxprice = 900\n",
    "        \n",
    "    def sell(self):\n",
    "        print(\"Selling Price: {}\".format(self.__maxprice))\n",
    "        \n",
    "    def setMaxPrice(self,price):\n",
    "        self.__maxprice = price\n",
    "        \n",
    "c = Computer()\n",
    "c.sell()\n",
    "\n",
    "# change the price\n",
    "c.__maxprice = 2000 # it does NOT work, price is not changing\n",
    "c.sell() # OUTPUT: Selling Price: 900\n",
    "\n",
    "# using setter function\n",
    "c.setMaxPrice(2000)\n",
    "c.sell()"
   ]
  },
  {
   "cell_type": "markdown",
   "metadata": {},
   "source": [
    "## Polymorphism\n",
    "Polymorphism is an ability (in OOP) to use a common interface for multiple forms (data types).\n",
    "\n",
    "#### Using Polymorphism in Python\n",
    ">To use polymorphism, we created a common interface i.e <code>flying_test()</code> function that takes any object and calls the object's <code>fly()</code> method."
   ]
  },
  {
   "cell_type": "code",
   "execution_count": 14,
   "metadata": {},
   "outputs": [
    {
     "name": "stdout",
     "output_type": "stream",
     "text": [
      "Parrot can  fly\n",
      "Penguin can't fly\n"
     ]
    }
   ],
   "source": [
    "class Parrot:\n",
    "    def fly(self):\n",
    "        print(\"Parrot can  fly\")\n",
    "        \n",
    "    def swim(self):\n",
    "        print(\"Parrot can't swim\")\n",
    "        \n",
    "class Penguin:\n",
    "    def fly(self):\n",
    "        print(\"Penguin can't fly\")\n",
    "        \n",
    "    def swim(self):\n",
    "        print(\"Penguin can swim\")\n",
    "        \n",
    "# common interface\n",
    "def flying_test(bird):\n",
    "    bird.fly()\n",
    "    \n",
    "# instantiate objects\n",
    "blu = Parrot()\n",
    "peggy = Penguin()\n",
    "\n",
    "# passing the object\n",
    "flying_test(blu)\n",
    "flying_test(peggy)"
   ]
  },
  {
   "cell_type": "markdown",
   "metadata": {},
   "source": [
    "# Python Objects and Classes\n",
    "An object is also called an instance of a class and the process of creating this object is called <b>instantiation</b>.\n",
    "\n",
    "> The first string inside the class is called <font color=\"red\">docstring</font> and has a brief description about the class."
   ]
  },
  {
   "cell_type": "code",
   "execution_count": 17,
   "metadata": {},
   "outputs": [
    {
     "name": "stdout",
     "output_type": "stream",
     "text": [
      "hello\n",
      "10\n",
      "<function Person.greet at 0x0000022042541DC0>\n",
      "This is a person class\n"
     ]
    }
   ],
   "source": [
    "class Person:\n",
    "    \"This is a person class\"\n",
    "    age = 10\n",
    "    \n",
    "    def greet(self):\n",
    "        print('hello')\n",
    "        \n",
    "Person().greet()\n",
    "print(Person.age)\n",
    "print(Person.greet)\n",
    "print(Person.__doc__)"
   ]
  },
  {
   "cell_type": "markdown",
   "metadata": {},
   "source": [
    "### Creating an Object in Python\n",
    "\n",
    "###### Where does <code>self</code> came from?\n",
    "This is because, whenever an object calls its method, the object itself is passed as the first argument. So, <code>harry.greet()</code> translates into <code>Person.greet(harry)</code>. For these reasons, the first argument of the function in class must be the object itself. This is conventionally called <code>self</code>."
   ]
  },
  {
   "cell_type": "code",
   "execution_count": 19,
   "metadata": {},
   "outputs": [
    {
     "name": "stdout",
     "output_type": "stream",
     "text": [
      "hello\n"
     ]
    }
   ],
   "source": [
    "urdad = Person() # create a new object of Person class\n",
    "urdad.greet()"
   ]
  },
  {
   "cell_type": "markdown",
   "metadata": {},
   "source": [
    "## Constructors in Python\n",
    "> Special functions begins with double underscore <code>\\_\\_</code>.\n",
    "> Of one particular interest is the <code>\\_\\_init\\_\\_()</code> function. This special function gets called whenever a new object of that class is instantiated."
   ]
  },
  {
   "cell_type": "code",
   "execution_count": 22,
   "metadata": {},
   "outputs": [
    {
     "name": "stdout",
     "output_type": "stream",
     "text": [
      "2+3j\n",
      "(5, 0, 10)\n"
     ]
    }
   ],
   "source": [
    "class ComplexNumber:\n",
    "    def __init__(self, r=0, i=0):\n",
    "        self.real = r\n",
    "        self.imag = i\n",
    "        \n",
    "    def get_data(self):\n",
    "        print(f\"{self.real}+{self.imag}j\")\n",
    "        \n",
    "# Create a new ComplexNumber object\n",
    "num1 = ComplexNumber(2,3)\n",
    "\n",
    "# call get_data() method\n",
    "num1.get_data()\n",
    "\n",
    "# Create another ComplexNumber object\n",
    "# and create a new attribute 'attr'\n",
    "num2 = ComplexNumber(5)\n",
    "num2.attr = 10 # We created a new attribute attr for object num2 and read it as well. \n",
    "\n",
    "print((num2.real, num2.imag, num2.attr))"
   ]
  },
  {
   "cell_type": "markdown",
   "metadata": {},
   "source": [
    "## Deleting Attributes and Objects\n",
    "* <code>del</code> statement"
   ]
  },
  {
   "cell_type": "code",
   "execution_count": 27,
   "metadata": {},
   "outputs": [
    {
     "ename": "AttributeError",
     "evalue": "'ComplexNumber' object has no attribute 'imag'",
     "output_type": "error",
     "traceback": [
      "\u001b[1;31m---------------------------------------------------------------------------\u001b[0m",
      "\u001b[1;31mAttributeError\u001b[0m                            Traceback (most recent call last)",
      "\u001b[1;32m<ipython-input-27-9d77551f395f>\u001b[0m in \u001b[0;36m<module>\u001b[1;34m\u001b[0m\n\u001b[0;32m      1\u001b[0m \u001b[0mnum1\u001b[0m \u001b[1;33m=\u001b[0m \u001b[0mComplexNumber\u001b[0m\u001b[1;33m(\u001b[0m\u001b[1;36m2\u001b[0m\u001b[1;33m,\u001b[0m\u001b[1;36m3\u001b[0m\u001b[1;33m)\u001b[0m\u001b[1;33m\u001b[0m\u001b[1;33m\u001b[0m\u001b[0m\n\u001b[0;32m      2\u001b[0m \u001b[1;32mdel\u001b[0m \u001b[0mnum1\u001b[0m\u001b[1;33m.\u001b[0m\u001b[0mimag\u001b[0m\u001b[1;33m\u001b[0m\u001b[1;33m\u001b[0m\u001b[0m\n\u001b[1;32m----> 3\u001b[1;33m \u001b[0mnum1\u001b[0m\u001b[1;33m.\u001b[0m\u001b[0mget_data\u001b[0m\u001b[1;33m(\u001b[0m\u001b[1;33m)\u001b[0m\u001b[1;33m\u001b[0m\u001b[1;33m\u001b[0m\u001b[0m\n\u001b[0m\u001b[0;32m      4\u001b[0m \u001b[1;33m\u001b[0m\u001b[0m\n\u001b[0;32m      5\u001b[0m \u001b[1;32mdel\u001b[0m \u001b[0mComplexNumber\u001b[0m\u001b[1;33m.\u001b[0m\u001b[0mget_data\u001b[0m\u001b[1;33m\u001b[0m\u001b[1;33m\u001b[0m\u001b[0m\n",
      "\u001b[1;32m<ipython-input-22-cfecba3fbba0>\u001b[0m in \u001b[0;36mget_data\u001b[1;34m(self)\u001b[0m\n\u001b[0;32m      5\u001b[0m \u001b[1;33m\u001b[0m\u001b[0m\n\u001b[0;32m      6\u001b[0m     \u001b[1;32mdef\u001b[0m \u001b[0mget_data\u001b[0m\u001b[1;33m(\u001b[0m\u001b[0mself\u001b[0m\u001b[1;33m)\u001b[0m\u001b[1;33m:\u001b[0m\u001b[1;33m\u001b[0m\u001b[1;33m\u001b[0m\u001b[0m\n\u001b[1;32m----> 7\u001b[1;33m         \u001b[0mprint\u001b[0m\u001b[1;33m(\u001b[0m\u001b[1;34mf\"{self.real}+{self.imag}j\"\u001b[0m\u001b[1;33m)\u001b[0m\u001b[1;33m\u001b[0m\u001b[1;33m\u001b[0m\u001b[0m\n\u001b[0m\u001b[0;32m      8\u001b[0m \u001b[1;33m\u001b[0m\u001b[0m\n\u001b[0;32m      9\u001b[0m \u001b[1;31m# Create a new ComplexNumber object\u001b[0m\u001b[1;33m\u001b[0m\u001b[1;33m\u001b[0m\u001b[1;33m\u001b[0m\u001b[0m\n",
      "\u001b[1;31mAttributeError\u001b[0m: 'ComplexNumber' object has no attribute 'imag'"
     ]
    }
   ],
   "source": [
    "num1 = ComplexNumber(2,3)\n",
    "del num1.imag\n",
    "num1.get_data()\n",
    "\n",
    "del ComplexNumber.get_data\n",
    "num1.get_data()\n",
    "\n",
    "# we can also delete the object itself\n",
    "del num1\n",
    "\n",
    "# On the command del num1, this binding is removed and the name num1 is deleted \n",
    "# from the corresponding namespace. The object however continues to exist in \n",
    "# memory and if no other name is bound to it, it is later automatically \n",
    "# destroyed.\n",
    "\n",
    "# This automatic destruction of unreferenced objects in Python is also called \n",
    "# garbage collection."
   ]
  },
  {
   "cell_type": "markdown",
   "metadata": {},
   "source": [
    "# Python Inheritance\n",
    "It refers to defining a new class with little or no modification to an existing class. The new class is called <code>derived (or child)</code> class and the one from which it inherits is called the <code>base (or parent)</code> class."
   ]
  },
  {
   "cell_type": "code",
   "execution_count": 1,
   "metadata": {},
   "outputs": [],
   "source": [
    "class BaseClass:\n",
    "    pass\n",
    "\n",
    "class DerivedClass(BaseClass):\n",
    "    pass"
   ]
  },
  {
   "cell_type": "code",
   "execution_count": 9,
   "metadata": {},
   "outputs": [
    {
     "name": "stdout",
     "output_type": "stream",
     "text": [
      "Enter side 1 : 3\n",
      "Enter side 2 : 5\n",
      "Enter side 3 : 8\n",
      "Side 1 is 3.0\n",
      "Side 2 is 5.0\n",
      "Side 3 is 8.0\n"
     ]
    }
   ],
   "source": [
    "class Polygon: \n",
    "    def __init__(self, number_of_sides):\n",
    "        self.n = number_of_sides\n",
    "        self.sides = [0 for i in range(number_of_sides)]\n",
    "        \n",
    "    def inputSides(self):\n",
    "        self.sides = [float(input(\"Enter side \" + str(i + 1) + \" : \")) for i in range(self.n)]\n",
    "        \n",
    "    def dispSides(self):\n",
    "        for i in range(self.n):\n",
    "            print(\"Side\", i+1, \"is\", self.sides[i])\n",
    "            \n",
    "triangle = Polygon(3)\n",
    "triangle.inputSides()\n",
    "triangle.dispSides()"
   ]
  },
  {
   "cell_type": "markdown",
   "metadata": {},
   "source": [
    "A triangle is a polygon with 3 sides. So, we can create a class called <code>Triangle</code> which inherits from <code>Polygon</code>. This makes all the attributes of <code>Polygon</code> class available to the <code>Triangle</code> class."
   ]
  },
  {
   "cell_type": "code",
   "execution_count": 19,
   "metadata": {},
   "outputs": [
    {
     "name": "stdout",
     "output_type": "stream",
     "text": [
      "Enter side 1 : 6\n",
      "Enter side 2 : 7\n",
      "Enter side 3 : 9\n",
      "Side 1 is 6.0\n",
      "Side 2 is 7.0\n",
      "Side 3 is 9.0\n",
      "The area of the triangle is 20.98\n"
     ]
    }
   ],
   "source": [
    "class Polygon: \n",
    "    def __init__(self, number_of_sides):\n",
    "        self.n = number_of_sides\n",
    "        self.sides = [0 for i in range(number_of_sides)]\n",
    "        \n",
    "    def inputSides(self):\n",
    "        self.sides = [float(input(\"Enter side \" + str(i + 1) + \" : \")) for i in range(self.n)]\n",
    "        \n",
    "    def dispSides(self):\n",
    "        for i in range(self.n):\n",
    "            print(\"Side\", i+1, \"is\", self.sides[i])\n",
    "\n",
    "class Triangle(Polygon):\n",
    "    def __init__(self):\n",
    "        Polygon.__init__(self,3)\n",
    "        # we can use also super().__init__(self,3)\n",
    "        \n",
    "    def findArea(self):\n",
    "        a, b, c = self.sides\n",
    "        # calculate the semi-perimeter\n",
    "        s = (a + b + c) / 2\n",
    "        area = (s*(s-a)*(s-b)*(s-c)) ** 0.5\n",
    "        print('The area of the triangle is {}'.format(round(area, 2)))\n",
    "        \n",
    "t = Triangle()\n",
    "t.inputSides()\n",
    "t.dispSides()\n",
    "t.findArea()"
   ]
  },
  {
   "cell_type": "markdown",
   "metadata": {},
   "source": [
    "## Method Overriding in Python\n",
    "It was shown in the example above where <code>\\_\\_init\\_\\_()</code> in <code>Triangle</code> class overriden <code>\\_\\_init\\_\\_()</code> in <code>Polygon</code> class."
   ]
  },
  {
   "cell_type": "code",
   "execution_count": 20,
   "metadata": {},
   "outputs": [
    {
     "name": "stdout",
     "output_type": "stream",
     "text": [
      "True\n",
      "True\n",
      "False\n",
      "True\n"
     ]
    }
   ],
   "source": [
    "print(isinstance(t,Triangle))\n",
    "print(isinstance(t,Polygon))\n",
    "\n",
    "print(issubclass(Polygon,Triangle))\n",
    "print(issubclass(Triangle,Polygon))"
   ]
  },
  {
   "cell_type": "markdown",
   "metadata": {},
   "source": [
    "# Python Multiple Inheritance\n",
    ">In multiple inheritance, the features of all the base classes are inherited into the derived class. "
   ]
  },
  {
   "cell_type": "code",
   "execution_count": 22,
   "metadata": {},
   "outputs": [],
   "source": [
    "class Base1:\n",
    "    pass\n",
    "\n",
    "class Base2:\n",
    "    pass\n",
    "\n",
    "class MultiDerived(Base1, Base2):\n",
    "    pass"
   ]
  },
  {
   "cell_type": "markdown",
   "metadata": {},
   "source": [
    "## Python Multilevel Inheritance\n",
    "> In multilevel inheritance, features of the base class and the derived class are inherited into the new derived class."
   ]
  },
  {
   "cell_type": "code",
   "execution_count": 23,
   "metadata": {},
   "outputs": [],
   "source": [
    "class Base:\n",
    "    pass\n",
    "\n",
    "class Derived1(Base):\n",
    "    pass\n",
    "\n",
    "class Derived2(Derived1):\n",
    "    pass"
   ]
  },
  {
   "cell_type": "markdown",
   "metadata": {},
   "source": [
    "## Method Resolution Order in Python\n",
    "Every class in Python is derived from the <code>object</code> class. It is the most base type in Python."
   ]
  },
  {
   "cell_type": "code",
   "execution_count": 24,
   "metadata": {},
   "outputs": [
    {
     "name": "stdout",
     "output_type": "stream",
     "text": [
      "True\n",
      "True\n",
      "True\n"
     ]
    }
   ],
   "source": [
    "# Output: True\n",
    "print(issubclass(list,object))\n",
    "\n",
    "# Output: True\n",
    "print(isinstance(5.5,object))\n",
    "\n",
    "# Output: True\n",
    "print(isinstance(\"Hello\",object))"
   ]
  },
  {
   "cell_type": "markdown",
   "metadata": {},
   "source": [
    "> The <code>MultiDerived</code> class the search order is <code>[MultiDerived, Base1, Base2, object]</code>. This order is also called linearization of <code>MultiDerived</code> class and the set of rules used to find this order is called <b>Method Resolution Order (MRO)</b>.\n",
    "\n",
    "<b>MRO</b> of a class can be viewed as the <code>\\_\\_mro\\_\\_</code> attribute or the <code>mro()</code> method."
   ]
  },
  {
   "cell_type": "code",
   "execution_count": 27,
   "metadata": {},
   "outputs": [
    {
     "name": "stdout",
     "output_type": "stream",
     "text": [
      "(<class '__main__.Derived2'>, <class '__main__.Derived1'>, <class '__main__.Base'>, <class 'object'>)\n"
     ]
    }
   ],
   "source": [
    "print(Derived2.__mro__)\n",
    "\n",
    "# OUTPUT:\n",
    "# (<class '__main__.Derived2'>, <class '__main__.Derived1'>, \n",
    "# <class '__main__.Base'>, <class 'object'>)"
   ]
  },
  {
   "attachments": {
    "image.png": {
     "image/png": "[encoded data removed]"
    }
   },
   "cell_type": "markdown",
   "metadata": {},
   "source": [
    "#### Visualizing Multiple Inheritance in Python\n",
    "![image.png](attachment:image.png)"
   ]
  },
  {
   "cell_type": "code",
   "execution_count": 28,
   "metadata": {},
   "outputs": [
    {
     "name": "stdout",
     "output_type": "stream",
     "text": [
      "[<class '__main__.M'>, <class '__main__.A'>, <class '__main__.X'>, <class '__main__.B'>, <class '__main__.Y'>, <class '__main__.Z'>, <class 'object'>]\n"
     ]
    }
   ],
   "source": [
    "class X:\n",
    "    pass\n",
    "\n",
    "class Y:\n",
    "    pass\n",
    "\n",
    "class Z: \n",
    "    pass\n",
    "\n",
    "class A(X,Y):\n",
    "    pass\n",
    "\n",
    "class B(Y,Z):\n",
    "    pass\n",
    "\n",
    "class M(A,B,Z):\n",
    "    pass\n",
    "\n",
    "print(M.mro()) # or m.__mro__\n",
    "\n",
    "#OUTPUT:\n",
    "# [<class '__main__.M'>, <class '__main__.A'>, <class '__main__.X'>, \n",
    "# <class '__main__.B'>, <class '__main__.Y'>, <class '__main__.Z'>, \n",
    "# <class 'object'>]"
   ]
  },
  {
   "cell_type": "markdown",
   "metadata": {},
   "source": [
    "# Python Special Functions\n",
    ">Special functions are functions that begin with double underscore <code>\\_\\_</code>.\n",
    "There are many of them: https://docs.python.org/3/reference/datamodel.html#special-method-names\n",
    "\n",
    "For example we can define a <code>\\_\\_str\\_\\_()</code> method in our class that controls how the object <font color=\"red\">gets printed</font>. "
   ]
  },
  {
   "cell_type": "code",
   "execution_count": 29,
   "metadata": {},
   "outputs": [
    {
     "name": "stdout",
     "output_type": "stream",
     "text": [
      "(2,3)\n"
     ]
    }
   ],
   "source": [
    "class Point:\n",
    "    def __init__(self,x=0,y=0):\n",
    "        self.x=x\n",
    "        self.y=y\n",
    "        \n",
    "    def __str__(self):\n",
    "        return \"({0},{1})\".format(self.x,self.y)\n",
    "    \n",
    "p1 = Point(2,3)\n",
    "print(p1) # we can print object directly, due to defined __str__() function"
   ]
  },
  {
   "cell_type": "markdown",
   "metadata": {},
   "source": [
    "## Overloading the + Operator\n",
    ">To overload the <code>+</code> operator, we will need to implement <code>\\_\\_add\\_\\_()</code> function in the class."
   ]
  },
  {
   "cell_type": "code",
   "execution_count": 31,
   "metadata": {},
   "outputs": [
    {
     "name": "stdout",
     "output_type": "stream",
     "text": [
      "(3,8)\n"
     ]
    }
   ],
   "source": [
    "class Point:\n",
    "    def __init__(self,x=0,y=0):\n",
    "        self.x=x\n",
    "        self.y=y\n",
    "        \n",
    "    def __str__(self):\n",
    "        return \"({0},{1})\".format(self.x,self.y)\n",
    "    \n",
    "    def __add__(self, other):\n",
    "        x=self.x + other.x\n",
    "        y=self.y + other.y\n",
    "        return Point(x,y)\n",
    "    \n",
    "p1 = Point(1,2)\n",
    "p2 = Point(2,6)\n",
    "\n",
    "print(p1+p2)"
   ]
  },
  {
   "cell_type": "markdown",
   "metadata": {},
   "source": [
    ">What actually happens is that, when you use <code>p1 + p2</code>, Python calls <code>p1.\\_\\_add\\_\\_(p2)</code> which in turn is <code>Point.\\_\\_add\\_\\_(p1,p2). "
   ]
  },
  {
   "attachments": {
    "image.png": {
     "image/png": "[encoded data removed]"
    }
   },
   "cell_type": "markdown",
   "metadata": {},
   "source": [
    "## Other operators which we can overload\n",
    "![image.png](attachment:image.png)"
   ]
  },
  {
   "cell_type": "markdown",
   "metadata": {},
   "source": [
    "## Overloading Comparison Operators\n",
    "We want to implement the less than symbol <code>\\<</code> symbol in our <code>Point</code> class."
   ]
  },
  {
   "cell_type": "code",
   "execution_count": 32,
   "metadata": {},
   "outputs": [
    {
     "name": "stdout",
     "output_type": "stream",
     "text": [
      "True\n",
      "False\n",
      "False\n"
     ]
    }
   ],
   "source": [
    "# overloading the less than operator\n",
    "class Point:\n",
    "    def __init__(self, x=0, y=0):\n",
    "        self.x = x\n",
    "        self.y = y\n",
    "        \n",
    "    def __str__(self):\n",
    "        return \"({0},{1})\".format(self.x, self.y)\n",
    "    \n",
    "    def __lt__(self,other):\n",
    "        self_mag = (self.x ** 2) + (self.y ** 2)\n",
    "        other_mag = (other.x ** 2) + (other.y ** 2)\n",
    "        return self_mag < other_mag\n",
    "    \n",
    "p1 = Point(1,1)\n",
    "p2 = Point(-2,-3)\n",
    "p3 = Point(1,-1)\n",
    "\n",
    "# use less than\n",
    "print(p1<p2)\n",
    "print(p2<p3)\n",
    "print(p1<p3)"
   ]
  },
  {
   "attachments": {
    "image.png": {
     "image/png": "[encoded data removed]"
    }
   },
   "cell_type": "markdown",
   "metadata": {},
   "source": [
    "### Other comparison operators which we can overload:\n",
    "![image.png](attachment:image.png)"
   ]
  },
  {
   "cell_type": "code",
   "execution_count": null,
   "metadata": {},
   "outputs": [],
   "source": []
  }
 ],
 "metadata": {
  "kernelspec": {
   "display_name": "Python 3",
   "language": "python",
   "name": "python3"
  },
  "language_info": {
   "codemirror_mode": {
    "name": "ipython",
    "version": 3
   },
   "file_extension": ".py",
   "mimetype": "text/x-python",
   "name": "python",
   "nbconvert_exporter": "python",
   "pygments_lexer": "ipython3",
   "version": "3.8.5"
  }
 },
 "nbformat": 4,
 "nbformat_minor": 4
}
